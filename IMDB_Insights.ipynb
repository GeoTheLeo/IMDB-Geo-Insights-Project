{
 "cells": [
  {
   "cell_type": "markdown",
   "id": "d047fbd4",
   "metadata": {},
   "source": [
    "SQL fun - IMDB querying and visualisation\n",
    "\n",
    "My notebook queries the IMDb database to explore and visualise the IMDb dataset using pandas and matplotlib. The database itself is large,and through exploration of the IMDb dataset, I will practice querying the database using python, then to process and visualise the retrieved data with the pandas package. I am a movie buff, so I intend on exploring these questions:\n",
    "\n",
    "What are the average ratings for the TV show 'The X-files'?\n",
    "What movies have the highest soundtrack rating?\n",
    "What genres are there?\n",
    "How many movies are there in each genre?\n",
    "How many movies are made in each genre each year?\n",
    "How do the average ages of leading actors and actresses compare in each genre?\n",
    "What is a typical runtime for movies in each genre?"
   ]
  },
  {
   "cell_type": "markdown",
   "id": "900f1fcb",
   "metadata": {},
   "source": [
    "Imports"
   ]
  },
  {
   "cell_type": "code",
   "execution_count": 18,
   "id": "8180bf38",
   "metadata": {},
   "outputs": [],
   "source": [
    "import mysql.connector\n",
    "import pandas as pd\n",
    "import matplotlib.pyplot as plt # general plotting\n",
    "import matplotlib as mpl # for figure quality (dpi)\n",
    "import os"
   ]
  },
  {
   "cell_type": "markdown",
   "id": "1cbe533e",
   "metadata": {},
   "source": [
    "My Formatting"
   ]
  },
  {
   "cell_type": "code",
   "execution_count": 19,
   "id": "383c663e",
   "metadata": {},
   "outputs": [],
   "source": [
    "# Fontsize\n",
    "fs = 12\n",
    "\n",
    "# Figure quality\n",
    "mpl.rcParams['figure.dpi']= 100 # in notebook resolution\n",
    "mpl.rc(\"savefig\", dpi=400) # higher resolution when saving\n",
    "\n",
    "# Set font\n",
    "plt.rcParams['font.family'] = 'sans-serif'\n",
    "plt.rcParams['font.sans-serif'] = 'Helvetica'\n",
    "\n",
    "# Set the style of the axes and the text color\n",
    "plt.rcParams['axes.edgecolor']='#333F4B'\n",
    "plt.rcParams['axes.linewidth']= 1\n",
    "plt.rcParams['xtick.color']='#333F4B'\n",
    "plt.rcParams['ytick.color']='#333F4B'\n",
    "plt.rcParams['text.color']='#333F4B'"
   ]
  },
  {
   "cell_type": "markdown",
   "id": "fd44479a",
   "metadata": {},
   "source": [
    "Image Folder for Plots"
   ]
  },
  {
   "cell_type": "code",
   "execution_count": 20,
   "id": "368b06dc",
   "metadata": {},
   "outputs": [],
   "source": [
    "import os\n",
    "\n",
    "# Create directory if it doesn't already exist\n",
    "img_directory = './images/plots'\n",
    "if not os.path.exists(img_directory):\n",
    "    os.makedirs(img_directory)  # <-- This will create parent dirs if needed\n",
    "    print(\"Directory:\", img_directory, \"created.\")\n"
   ]
  },
  {
   "cell_type": "markdown",
   "id": "47a796f2",
   "metadata": {},
   "source": [
    "Connect to my DB file"
   ]
  },
  {
   "cell_type": "code",
   "execution_count": 21,
   "id": "4c52d37c",
   "metadata": {},
   "outputs": [
    {
     "name": "stdout",
     "output_type": "stream",
     "text": [
      "Requirement already satisfied: mysql-connector-python in c:\\users\\profe\\appdata\\local\\programs\\python\\python313\\lib\\site-packages (9.4.0)\n",
      "Note: you may need to restart the kernel to use updated packages.\n"
     ]
    },
    {
     "name": "stderr",
     "output_type": "stream",
     "text": [
      "\n",
      "[notice] A new release of pip is available: 25.0.1 -> 25.1.1\n",
      "[notice] To update, run: python.exe -m pip install --upgrade pip\n"
     ]
    }
   ],
   "source": [
    "pip install mysql-connector-python"
   ]
  },
  {
   "cell_type": "code",
   "execution_count": 22,
   "id": "43c981be",
   "metadata": {},
   "outputs": [
    {
     "ename": "SyntaxError",
     "evalue": "invalid syntax (287973027.py, line 1)",
     "output_type": "error",
     "traceback": [
      "  \u001b[36mCell\u001b[39m\u001b[36m \u001b[39m\u001b[32mIn[22]\u001b[39m\u001b[32m, line 1\u001b[39m\n\u001b[31m    \u001b[39m\u001b[31mALTER USER 'your_username'@'localhost' IDENTIFIED WITH mysql_native_password BY 'your_password';\u001b[39m\n          ^\n\u001b[31mSyntaxError\u001b[39m\u001b[31m:\u001b[39m invalid syntax\n"
     ]
    }
   ],
   "source": [
    "ALTER USER 'your_username'@'localhost' IDENTIFIED WITH mysql_native_password BY 'your_password';\n",
    "FLUSH PRIVILEGES;"
   ]
  },
  {
   "cell_type": "code",
   "execution_count": null,
   "id": "d2e4353b",
   "metadata": {},
   "outputs": [
    {
     "name": "stderr",
     "output_type": "stream",
     "text": [
      "<>:3: SyntaxWarning: invalid escape sequence '\\i'\n",
      "<>:3: SyntaxWarning: invalid escape sequence '\\i'\n",
      "C:\\Users\\profe\\AppData\\Local\\Temp\\ipykernel_43184\\78103782.py:3: SyntaxWarning: invalid escape sequence '\\i'\n",
      "  imdb = pd.read_csv(\"Data\\imdb_top_1000.csv\")\n"
     ]
    }
   ],
   "source": [
    "import pandas as pd\n",
    "\n",
    "imdb = pd.read_csv(\"Data\\imdb_top_1000.csv\")"
   ]
  },
  {
   "cell_type": "code",
   "execution_count": null,
   "id": "f66872aa",
   "metadata": {},
   "outputs": [
    {
     "data": {
      "text/html": [
       "<div>\n",
       "<style scoped>\n",
       "    .dataframe tbody tr th:only-of-type {\n",
       "        vertical-align: middle;\n",
       "    }\n",
       "\n",
       "    .dataframe tbody tr th {\n",
       "        vertical-align: top;\n",
       "    }\n",
       "\n",
       "    .dataframe thead th {\n",
       "        text-align: right;\n",
       "    }\n",
       "</style>\n",
       "<table border=\"1\" class=\"dataframe\">\n",
       "  <thead>\n",
       "    <tr style=\"text-align: right;\">\n",
       "      <th></th>\n",
       "      <th>Poster_Link</th>\n",
       "      <th>Series_Title</th>\n",
       "      <th>Released_Year</th>\n",
       "      <th>Certificate</th>\n",
       "      <th>Runtime</th>\n",
       "      <th>Genre</th>\n",
       "      <th>IMDB_Rating</th>\n",
       "      <th>Overview</th>\n",
       "      <th>Meta_score</th>\n",
       "      <th>Director</th>\n",
       "      <th>Star1</th>\n",
       "      <th>Star2</th>\n",
       "      <th>Star3</th>\n",
       "      <th>Star4</th>\n",
       "      <th>No_of_Votes</th>\n",
       "      <th>Gross</th>\n",
       "    </tr>\n",
       "  </thead>\n",
       "  <tbody>\n",
       "    <tr>\n",
       "      <th>0</th>\n",
       "      <td>https://m.media-amazon.com/images/M/MV5BMDFkYT...</td>\n",
       "      <td>The Shawshank Redemption</td>\n",
       "      <td>1994</td>\n",
       "      <td>A</td>\n",
       "      <td>142 min</td>\n",
       "      <td>Drama</td>\n",
       "      <td>9.3</td>\n",
       "      <td>Two imprisoned men bond over a number of years...</td>\n",
       "      <td>80.0</td>\n",
       "      <td>Frank Darabont</td>\n",
       "      <td>Tim Robbins</td>\n",
       "      <td>Morgan Freeman</td>\n",
       "      <td>Bob Gunton</td>\n",
       "      <td>William Sadler</td>\n",
       "      <td>2343110</td>\n",
       "      <td>28,341,469</td>\n",
       "    </tr>\n",
       "    <tr>\n",
       "      <th>1</th>\n",
       "      <td>https://m.media-amazon.com/images/M/MV5BM2MyNj...</td>\n",
       "      <td>The Godfather</td>\n",
       "      <td>1972</td>\n",
       "      <td>A</td>\n",
       "      <td>175 min</td>\n",
       "      <td>Crime, Drama</td>\n",
       "      <td>9.2</td>\n",
       "      <td>An organized crime dynasty's aging patriarch t...</td>\n",
       "      <td>100.0</td>\n",
       "      <td>Francis Ford Coppola</td>\n",
       "      <td>Marlon Brando</td>\n",
       "      <td>Al Pacino</td>\n",
       "      <td>James Caan</td>\n",
       "      <td>Diane Keaton</td>\n",
       "      <td>1620367</td>\n",
       "      <td>134,966,411</td>\n",
       "    </tr>\n",
       "    <tr>\n",
       "      <th>2</th>\n",
       "      <td>https://m.media-amazon.com/images/M/MV5BMTMxNT...</td>\n",
       "      <td>The Dark Knight</td>\n",
       "      <td>2008</td>\n",
       "      <td>UA</td>\n",
       "      <td>152 min</td>\n",
       "      <td>Action, Crime, Drama</td>\n",
       "      <td>9.0</td>\n",
       "      <td>When the menace known as the Joker wreaks havo...</td>\n",
       "      <td>84.0</td>\n",
       "      <td>Christopher Nolan</td>\n",
       "      <td>Christian Bale</td>\n",
       "      <td>Heath Ledger</td>\n",
       "      <td>Aaron Eckhart</td>\n",
       "      <td>Michael Caine</td>\n",
       "      <td>2303232</td>\n",
       "      <td>534,858,444</td>\n",
       "    </tr>\n",
       "    <tr>\n",
       "      <th>3</th>\n",
       "      <td>https://m.media-amazon.com/images/M/MV5BMWMwMG...</td>\n",
       "      <td>The Godfather: Part II</td>\n",
       "      <td>1974</td>\n",
       "      <td>A</td>\n",
       "      <td>202 min</td>\n",
       "      <td>Crime, Drama</td>\n",
       "      <td>9.0</td>\n",
       "      <td>The early life and career of Vito Corleone in ...</td>\n",
       "      <td>90.0</td>\n",
       "      <td>Francis Ford Coppola</td>\n",
       "      <td>Al Pacino</td>\n",
       "      <td>Robert De Niro</td>\n",
       "      <td>Robert Duvall</td>\n",
       "      <td>Diane Keaton</td>\n",
       "      <td>1129952</td>\n",
       "      <td>57,300,000</td>\n",
       "    </tr>\n",
       "    <tr>\n",
       "      <th>4</th>\n",
       "      <td>https://m.media-amazon.com/images/M/MV5BMWU4N2...</td>\n",
       "      <td>12 Angry Men</td>\n",
       "      <td>1957</td>\n",
       "      <td>U</td>\n",
       "      <td>96 min</td>\n",
       "      <td>Crime, Drama</td>\n",
       "      <td>9.0</td>\n",
       "      <td>A jury holdout attempts to prevent a miscarria...</td>\n",
       "      <td>96.0</td>\n",
       "      <td>Sidney Lumet</td>\n",
       "      <td>Henry Fonda</td>\n",
       "      <td>Lee J. Cobb</td>\n",
       "      <td>Martin Balsam</td>\n",
       "      <td>John Fiedler</td>\n",
       "      <td>689845</td>\n",
       "      <td>4,360,000</td>\n",
       "    </tr>\n",
       "    <tr>\n",
       "      <th>...</th>\n",
       "      <td>...</td>\n",
       "      <td>...</td>\n",
       "      <td>...</td>\n",
       "      <td>...</td>\n",
       "      <td>...</td>\n",
       "      <td>...</td>\n",
       "      <td>...</td>\n",
       "      <td>...</td>\n",
       "      <td>...</td>\n",
       "      <td>...</td>\n",
       "      <td>...</td>\n",
       "      <td>...</td>\n",
       "      <td>...</td>\n",
       "      <td>...</td>\n",
       "      <td>...</td>\n",
       "      <td>...</td>\n",
       "    </tr>\n",
       "    <tr>\n",
       "      <th>995</th>\n",
       "      <td>https://m.media-amazon.com/images/M/MV5BNGEwMT...</td>\n",
       "      <td>Breakfast at Tiffany's</td>\n",
       "      <td>1961</td>\n",
       "      <td>A</td>\n",
       "      <td>115 min</td>\n",
       "      <td>Comedy, Drama, Romance</td>\n",
       "      <td>7.6</td>\n",
       "      <td>A young New York socialite becomes interested ...</td>\n",
       "      <td>76.0</td>\n",
       "      <td>Blake Edwards</td>\n",
       "      <td>Audrey Hepburn</td>\n",
       "      <td>George Peppard</td>\n",
       "      <td>Patricia Neal</td>\n",
       "      <td>Buddy Ebsen</td>\n",
       "      <td>166544</td>\n",
       "      <td>NaN</td>\n",
       "    </tr>\n",
       "    <tr>\n",
       "      <th>996</th>\n",
       "      <td>https://m.media-amazon.com/images/M/MV5BODk3Yj...</td>\n",
       "      <td>Giant</td>\n",
       "      <td>1956</td>\n",
       "      <td>G</td>\n",
       "      <td>201 min</td>\n",
       "      <td>Drama, Western</td>\n",
       "      <td>7.6</td>\n",
       "      <td>Sprawling epic covering the life of a Texas ca...</td>\n",
       "      <td>84.0</td>\n",
       "      <td>George Stevens</td>\n",
       "      <td>Elizabeth Taylor</td>\n",
       "      <td>Rock Hudson</td>\n",
       "      <td>James Dean</td>\n",
       "      <td>Carroll Baker</td>\n",
       "      <td>34075</td>\n",
       "      <td>NaN</td>\n",
       "    </tr>\n",
       "    <tr>\n",
       "      <th>997</th>\n",
       "      <td>https://m.media-amazon.com/images/M/MV5BM2U3Yz...</td>\n",
       "      <td>From Here to Eternity</td>\n",
       "      <td>1953</td>\n",
       "      <td>Passed</td>\n",
       "      <td>118 min</td>\n",
       "      <td>Drama, Romance, War</td>\n",
       "      <td>7.6</td>\n",
       "      <td>In Hawaii in 1941, a private is cruelly punish...</td>\n",
       "      <td>85.0</td>\n",
       "      <td>Fred Zinnemann</td>\n",
       "      <td>Burt Lancaster</td>\n",
       "      <td>Montgomery Clift</td>\n",
       "      <td>Deborah Kerr</td>\n",
       "      <td>Donna Reed</td>\n",
       "      <td>43374</td>\n",
       "      <td>30,500,000</td>\n",
       "    </tr>\n",
       "    <tr>\n",
       "      <th>998</th>\n",
       "      <td>https://m.media-amazon.com/images/M/MV5BZTBmMj...</td>\n",
       "      <td>Lifeboat</td>\n",
       "      <td>1944</td>\n",
       "      <td>NaN</td>\n",
       "      <td>97 min</td>\n",
       "      <td>Drama, War</td>\n",
       "      <td>7.6</td>\n",
       "      <td>Several survivors of a torpedoed merchant ship...</td>\n",
       "      <td>78.0</td>\n",
       "      <td>Alfred Hitchcock</td>\n",
       "      <td>Tallulah Bankhead</td>\n",
       "      <td>John Hodiak</td>\n",
       "      <td>Walter Slezak</td>\n",
       "      <td>William Bendix</td>\n",
       "      <td>26471</td>\n",
       "      <td>NaN</td>\n",
       "    </tr>\n",
       "    <tr>\n",
       "      <th>999</th>\n",
       "      <td>https://m.media-amazon.com/images/M/MV5BMTY5OD...</td>\n",
       "      <td>The 39 Steps</td>\n",
       "      <td>1935</td>\n",
       "      <td>NaN</td>\n",
       "      <td>86 min</td>\n",
       "      <td>Crime, Mystery, Thriller</td>\n",
       "      <td>7.6</td>\n",
       "      <td>A man in London tries to help a counter-espion...</td>\n",
       "      <td>93.0</td>\n",
       "      <td>Alfred Hitchcock</td>\n",
       "      <td>Robert Donat</td>\n",
       "      <td>Madeleine Carroll</td>\n",
       "      <td>Lucie Mannheim</td>\n",
       "      <td>Godfrey Tearle</td>\n",
       "      <td>51853</td>\n",
       "      <td>NaN</td>\n",
       "    </tr>\n",
       "  </tbody>\n",
       "</table>\n",
       "<p>1000 rows × 16 columns</p>\n",
       "</div>"
      ],
      "text/plain": [
       "                                           Poster_Link  \\\n",
       "0    https://m.media-amazon.com/images/M/MV5BMDFkYT...   \n",
       "1    https://m.media-amazon.com/images/M/MV5BM2MyNj...   \n",
       "2    https://m.media-amazon.com/images/M/MV5BMTMxNT...   \n",
       "3    https://m.media-amazon.com/images/M/MV5BMWMwMG...   \n",
       "4    https://m.media-amazon.com/images/M/MV5BMWU4N2...   \n",
       "..                                                 ...   \n",
       "995  https://m.media-amazon.com/images/M/MV5BNGEwMT...   \n",
       "996  https://m.media-amazon.com/images/M/MV5BODk3Yj...   \n",
       "997  https://m.media-amazon.com/images/M/MV5BM2U3Yz...   \n",
       "998  https://m.media-amazon.com/images/M/MV5BZTBmMj...   \n",
       "999  https://m.media-amazon.com/images/M/MV5BMTY5OD...   \n",
       "\n",
       "                 Series_Title Released_Year Certificate  Runtime  \\\n",
       "0    The Shawshank Redemption          1994           A  142 min   \n",
       "1               The Godfather          1972           A  175 min   \n",
       "2             The Dark Knight          2008          UA  152 min   \n",
       "3      The Godfather: Part II          1974           A  202 min   \n",
       "4                12 Angry Men          1957           U   96 min   \n",
       "..                        ...           ...         ...      ...   \n",
       "995    Breakfast at Tiffany's          1961           A  115 min   \n",
       "996                     Giant          1956           G  201 min   \n",
       "997     From Here to Eternity          1953      Passed  118 min   \n",
       "998                  Lifeboat          1944         NaN   97 min   \n",
       "999              The 39 Steps          1935         NaN   86 min   \n",
       "\n",
       "                        Genre  IMDB_Rating  \\\n",
       "0                       Drama          9.3   \n",
       "1                Crime, Drama          9.2   \n",
       "2        Action, Crime, Drama          9.0   \n",
       "3                Crime, Drama          9.0   \n",
       "4                Crime, Drama          9.0   \n",
       "..                        ...          ...   \n",
       "995    Comedy, Drama, Romance          7.6   \n",
       "996            Drama, Western          7.6   \n",
       "997       Drama, Romance, War          7.6   \n",
       "998                Drama, War          7.6   \n",
       "999  Crime, Mystery, Thriller          7.6   \n",
       "\n",
       "                                              Overview  Meta_score  \\\n",
       "0    Two imprisoned men bond over a number of years...        80.0   \n",
       "1    An organized crime dynasty's aging patriarch t...       100.0   \n",
       "2    When the menace known as the Joker wreaks havo...        84.0   \n",
       "3    The early life and career of Vito Corleone in ...        90.0   \n",
       "4    A jury holdout attempts to prevent a miscarria...        96.0   \n",
       "..                                                 ...         ...   \n",
       "995  A young New York socialite becomes interested ...        76.0   \n",
       "996  Sprawling epic covering the life of a Texas ca...        84.0   \n",
       "997  In Hawaii in 1941, a private is cruelly punish...        85.0   \n",
       "998  Several survivors of a torpedoed merchant ship...        78.0   \n",
       "999  A man in London tries to help a counter-espion...        93.0   \n",
       "\n",
       "                 Director              Star1              Star2  \\\n",
       "0          Frank Darabont        Tim Robbins     Morgan Freeman   \n",
       "1    Francis Ford Coppola      Marlon Brando          Al Pacino   \n",
       "2       Christopher Nolan     Christian Bale       Heath Ledger   \n",
       "3    Francis Ford Coppola          Al Pacino     Robert De Niro   \n",
       "4            Sidney Lumet        Henry Fonda        Lee J. Cobb   \n",
       "..                    ...                ...                ...   \n",
       "995         Blake Edwards     Audrey Hepburn     George Peppard   \n",
       "996        George Stevens   Elizabeth Taylor        Rock Hudson   \n",
       "997        Fred Zinnemann     Burt Lancaster   Montgomery Clift   \n",
       "998      Alfred Hitchcock  Tallulah Bankhead        John Hodiak   \n",
       "999      Alfred Hitchcock       Robert Donat  Madeleine Carroll   \n",
       "\n",
       "              Star3           Star4  No_of_Votes        Gross  \n",
       "0        Bob Gunton  William Sadler      2343110   28,341,469  \n",
       "1        James Caan    Diane Keaton      1620367  134,966,411  \n",
       "2     Aaron Eckhart   Michael Caine      2303232  534,858,444  \n",
       "3     Robert Duvall    Diane Keaton      1129952   57,300,000  \n",
       "4     Martin Balsam    John Fiedler       689845    4,360,000  \n",
       "..              ...             ...          ...          ...  \n",
       "995   Patricia Neal     Buddy Ebsen       166544          NaN  \n",
       "996      James Dean   Carroll Baker        34075          NaN  \n",
       "997    Deborah Kerr      Donna Reed        43374   30,500,000  \n",
       "998   Walter Slezak  William Bendix        26471          NaN  \n",
       "999  Lucie Mannheim  Godfrey Tearle        51853          NaN  \n",
       "\n",
       "[1000 rows x 16 columns]"
      ]
     },
     "execution_count": 16,
     "metadata": {},
     "output_type": "execute_result"
    }
   ],
   "source": [
    "imdb"
   ]
  },
  {
   "cell_type": "code",
   "execution_count": 35,
   "id": "805eb543",
   "metadata": {},
   "outputs": [
    {
     "data": {
      "text/plain": [
       "True"
      ]
     },
     "execution_count": 35,
     "metadata": {},
     "output_type": "execute_result"
    }
   ],
   "source": [
    "from dotenv import load_dotenv\n",
    "\n",
    "load_dotenv()"
   ]
  },
  {
   "cell_type": "code",
   "execution_count": 36,
   "id": "99a4af8e",
   "metadata": {},
   "outputs": [],
   "source": [
    "import sqlalchemy as sqla\n",
    "\n",
    "def get_uri_from_env():\n",
    "    user = os.getenv(\"MYSQL_USER\")  \n",
    "    password = os.getenv(\"MYSQL_PASSWORD\")\n",
    "    host = os.getenv(\"MYSQL_HOST\")\n",
    "    port = os.getenv(\"MYSQL_PORT\")\n",
    "    db = os.getenv(\"MYSQL_DB\")\n",
    "    return f'mysql+pymysql://{user}:{password}@{host}:{port}/{db}'\n",
    "\n",
    "uri = get_uri_from_env()\n",
    "\n",
    "engine = sqla.create_engine(uri)"
   ]
  },
  {
   "cell_type": "code",
   "execution_count": null,
   "id": "2d81268f",
   "metadata": {},
   "outputs": [],
   "source": []
  },
  {
   "cell_type": "code",
   "execution_count": null,
   "id": "7a359db2",
   "metadata": {},
   "outputs": [],
   "source": []
  },
  {
   "cell_type": "code",
   "execution_count": 24,
   "id": "fc63fd5e",
   "metadata": {},
   "outputs": [
    {
     "data": {
      "text/plain": [
       "1000"
      ]
     },
     "execution_count": 24,
     "metadata": {},
     "output_type": "execute_result"
    }
   ],
   "source": [
    "imdb.to_sql(\"imdbdb\", if_exists=\"replace\",con=engine)"
   ]
  },
  {
   "cell_type": "code",
   "execution_count": 45,
   "id": "487af991",
   "metadata": {},
   "outputs": [],
   "source": [
    "insights = pd.read_csv(\"Data\\\\title.principals.tsv\\\\title.principals.tsv\", sep=\"\\t\")"
   ]
  },
  {
   "cell_type": "code",
   "execution_count": 48,
   "id": "59328dd8",
   "metadata": {},
   "outputs": [
    {
     "data": {
      "text/plain": [
       "(93759105, 6)"
      ]
     },
     "execution_count": 48,
     "metadata": {},
     "output_type": "execute_result"
    }
   ],
   "source": [
    "insights.shape"
   ]
  },
  {
   "cell_type": "code",
   "execution_count": null,
   "id": "773dbf3b",
   "metadata": {},
   "outputs": [],
   "source": []
  },
  {
   "cell_type": "code",
   "execution_count": 49,
   "id": "0a8e960c",
   "metadata": {},
   "outputs": [
    {
     "ename": "StatementError",
     "evalue": "(builtins.MemoryError) \n[SQL: INSERT INTO title_principals (`index`, tconst, ordering, nconst, category, job, characters) VALUES (%(index)s, %(tconst)s, %(ordering)s, %(nconst)s, %(category)s, %(job)s, %(characters)s)]\n[parameters: [{'index': 0, 'tconst': 'tt0000001', 'ordering': 1, 'nconst': 'nm1588970', 'category': 'self', 'job': '\\\\N', 'characters': '[\"Self\"]'}, {'index': 1, 'tconst': 'tt0000001', 'ordering': 2, 'nconst': 'nm0005690', 'category': 'director', 'job': '\\\\N', 'characters': '\\\\N'}, {'index': 2, 'tconst': 'tt0000001', 'ordering': 3, 'nconst': 'nm0005690', 'category': 'producer', 'job': 'producer', 'characters': '\\\\N'}, {'index': 3, 'tconst': 'tt0000001', 'ordering': 4, 'nconst': 'nm0374658', 'category': 'cinematographer', 'job': 'director of photography', 'characters': '\\\\N'}, {'index': 4, 'tconst': 'tt0000002', 'ordering': 1, 'nconst': 'nm0721526', 'category': 'director', 'job': '\\\\N', 'characters': '\\\\N'}, {'index': 5, 'tconst': 'tt0000002', 'ordering': 2, 'nconst': 'nm1335271', 'category': 'composer', 'job': '\\\\N', 'characters': '\\\\N'}, {'index': 6, 'tconst': 'tt0000003', 'ordering': 1, 'nconst': 'nm0721526', 'category': 'director', 'job': '\\\\N', 'characters': '\\\\N'}, {'index': 7, 'tconst': 'tt0000003', 'ordering': 2, 'nconst': 'nm0721526', 'category': 'writer', 'job': '\\\\N', 'characters': '\\\\N'}, {'index': 8, 'tconst': 'tt0000003', 'ordering': 3, 'nconst': 'nm1770680', 'category': 'producer', 'job': 'producer', 'characters': '\\\\N'}, {'index': 9, 'tconst': 'tt0000003', 'ordering': 4, 'nconst': 'nm0721526', 'category': 'producer', 'job': 'producer', 'characters': '\\\\N'}, {'index': 10, 'tconst': 'tt0000003', 'ordering': 5, 'nconst': 'nm1335271', 'category': 'composer', 'job': '\\\\N', 'characters': '\\\\N'}, {'index': 11, 'tconst': 'tt0000003', 'ordering': 6, 'nconst': 'nm5442200', 'category': 'editor', 'job': 'editor', 'characters': '\\\\N'}, {'index': 12, 'tconst': 'tt0000004', 'ordering': 1, 'nconst': 'nm0721526', 'category': 'director', 'job': '\\\\N', 'characters': '\\\\N'}, {'index': 13, 'tconst': 'tt0000004', 'ordering': 2, 'nconst': 'nm1335271', 'category': 'composer', 'job': '\\\\N', 'characters': '\\\\N'}, {'index': 14, 'tconst': 'tt0000005', 'ordering': 1, 'nconst': 'nm0443482', 'category': 'actor', 'job': '\\\\N', 'characters': '[\"Blacksmith\"]'}, {'index': 15, 'tconst': 'tt0000005', 'ordering': 2, 'nconst': 'nm0653042', 'category': 'actor', 'job': '\\\\N', 'characters': '[\"Assistant\"]'}, {'index': 16, 'tconst': 'tt0000005', 'ordering': 3, 'nconst': 'nm0249379', 'category': 'producer', 'job': 'producer', 'characters': '\\\\N'}, {'index': 17, 'tconst': 'tt0000007', 'ordering': 1, 'nconst': 'nm0179163', 'category': 'actor', 'job': '\\\\N', 'characters': '\\\\N'}, {'index': 18, 'tconst': 'tt0000007', 'ordering': 2, 'nconst': 'nm0183947', 'category': 'actor', 'job': '\\\\N', 'characters': '\\\\N'}, {'index': 19, 'tconst': 'tt0000007', 'ordering': 3, 'nconst': 'nm0005690', 'category': 'director', 'job': '\\\\N', 'characters': '\\\\N'}, {'index': 20, 'tconst': 'tt0000007', 'ordering': 4, 'nconst': 'nm0374658', 'category': 'director', 'job': '\\\\N', 'characters': '\\\\N'}, {'index': 21, 'tconst': 'tt0000007', 'ordering': 5, 'nconst': 'nm0005690', 'category': 'producer', 'job': 'producer', 'characters': '\\\\N'}, {'index': 22, 'tconst': 'tt0000007', 'ordering': 6, 'nconst': 'nm0249379', 'category': 'producer', 'job': 'producer', 'characters': '\\\\N'}, {'index': 23, 'tconst': 'tt0000007', 'ordering': 7, 'nconst': 'nm0374658', 'category': 'cinematographer', 'job': '\\\\N', 'characters': '\\\\N'}, {'index': 24, 'tconst': 'tt0000008', 'ordering': 1, 'nconst': 'nm0653028', 'category': 'actor', 'job': '\\\\N', 'characters': '[\"Sneezing Man\"]'}, {'index': 25, 'tconst': 'tt0000008', 'ordering': 2, 'nconst': 'nm0005690', 'category': 'director', 'job': '\\\\N', 'characters': '\\\\N'}, {'index': 26, 'tconst': 'tt0000008', 'ordering': 3, 'nconst': 'nm0005690', 'category': 'producer', 'job': 'producer', 'characters': '\\\\N'}, {'index': 27, 'tconst': 'tt0000008', 'ordering': 4, 'nconst': 'nm0374658', 'category': 'cinematographer', 'job': '\\\\N', 'characters': '\\\\N'}, {'index': 28, 'tconst': 'tt0000009', 'ordering': 1, 'nconst': 'nm0063086', 'category': 'actress', 'job': '\\\\N', 'characters': '[\"Miss Geraldine Holbrook (Miss Jerry)\"]'}, {'index': 29, 'tconst': 'tt0000009', 'ordering': 2, 'nconst': 'nm0183823', 'category': 'actor', 'job': '\\\\N', 'characters': '[\"Mr. Hamilton\"]'}, {'index': 30, 'tconst': 'tt0000009', 'ordering': 3, 'nconst': 'nm1309758', 'category': 'actor', 'job': '\\\\N', 'characters': '[\"Chauncey Depew - the Director of the New York Central Railroad\"]'}, {'index': 31, 'tconst': 'tt0000009', 'ordering': 4, 'nconst': 'nm0085156', 'category': 'director', 'job': '\\\\N', 'characters': '\\\\N'}, {'index': 32, 'tconst': 'tt0000009', 'ordering': 5, 'nconst': 'nm0085156', 'category': 'writer', 'job': '\\\\N', 'characters': '\\\\N'}, {'index': 33, 'tconst': 'tt0000009', 'ordering': 6, 'nconst': 'nm0085156', 'category': 'producer', 'job': 'producer', 'characters': '\\\\N'}, {'index': 34, 'tconst': 'tt0000009', 'ordering': 7, 'nconst': 'nm0085156', 'category': 'cinematographer', 'job': '\\\\N', 'characters': '\\\\N'}, {'index': 35, 'tconst': 'tt0000010', 'ordering': 1, 'nconst': 'nm0525910', 'category': 'director', 'job': '\\\\N', 'characters': '\\\\N'}, {'index': 36, 'tconst': 'tt0000010', 'ordering': 2, 'nconst': 'nm0525910', 'category': 'producer', 'job': 'producer', 'characters': '\\\\N'}, {'index': 37, 'tconst': 'tt0000010', 'ordering': 3, 'nconst': 'nm0525910', 'category': 'cinematographer', 'job': '\\\\N', 'characters': '\\\\N'}, {'index': 38, 'tconst': 'tt0000011', 'ordering': 1, 'nconst': 'nm3692297', 'category': 'actor', 'job': '\\\\N', 'characters': '[\"Acrobats\"]'}, {'index': 39, 'tconst': 'tt0000011', 'ordering': 2, 'nconst': 'nm0804434', 'category': 'director', 'job': '\\\\N', 'characters': '\\\\N'}, {'index': 40, 'tconst': 'tt0000011', 'ordering': 3, 'nconst': 'nm0804434', 'category': 'producer', 'job': 'producer', 'characters': '\\\\N'}, {'index': 41, 'tconst': 'tt0000011', 'ordering': 4, 'nconst': 'nm0804434', 'category': 'cinematographer', 'job': '\\\\N', 'characters': '\\\\N'}, {'index': 42, 'tconst': 'tt0000012', 'ordering': 1, 'nconst': 'nm2880396', 'category': 'self', 'job': '\\\\N', 'characters': '[\"Self\"]'}, {'index': 43, 'tconst': 'tt0000012', 'ordering': 2, 'nconst': 'nm9735580', 'category': 'self', 'job': '\\\\N', 'characters': '[\"Self\"]'}, {'index': 44, 'tconst': 'tt0000012', 'ordering': 3, 'nconst': 'nm0525900', 'category': 'self', 'job': '\\\\N', 'characters': '[\"Self\"]'}, {'index': 45, 'tconst': 'tt0000012', 'ordering': 4, 'nconst': 'nm9735581', 'category': 'self', 'job': '\\\\N', 'characters': '[\"Self\"]'}, {'index': 46, 'tconst': 'tt0000012', 'ordering': 5, 'nconst': 'nm9735579', 'category': 'self', 'job': '\\\\N', 'characters': '[\"Self\"]'}, {'index': 47, 'tconst': 'tt0000012', 'ordering': 6, 'nconst': 'nm9653419', 'category': 'self', 'job': '\\\\N', 'characters': '[\"Self\"]'}, {'index': 48, 'tconst': 'tt0000012', 'ordering': 7, 'nconst': 'nm0525908', 'category': 'director', 'job': '\\\\N', 'characters': '\\\\N'}, {'index': 49, 'tconst': 'tt0000012', 'ordering': 8, 'nconst': 'nm0525910', 'category': 'director', 'job': '\\\\N', 'characters': '\\\\N'} ... 49999900 parameters truncated ... {'index': 49999950, 'tconst': 'tt2453080', 'ordering': 5, 'nconst': 'nm0080205', 'category': 'actor', 'job': '\\\\N', 'characters': '[\"CJ\"]'}, {'index': 49999951, 'tconst': 'tt2453080', 'ordering': 6, 'nconst': 'nm1463550', 'category': 'actor', 'job': '\\\\N', 'characters': '[\"Nandu\"]'}, {'index': 49999952, 'tconst': 'tt2453080', 'ordering': 7, 'nconst': 'nm0348481', 'category': 'actress', 'job': '\\\\N', 'characters': '[\"Nandini\"]'}, {'index': 49999953, 'tconst': 'tt2453080', 'ordering': 8, 'nconst': 'nm1348390', 'category': 'actress', 'job': '\\\\N', 'characters': '[\"Jassi\\'s Mother\"]'}, {'index': 49999954, 'tconst': 'tt2453080', 'ordering': 9, 'nconst': 'nm1585698', 'category': 'actress', 'job': '\\\\N', 'characters': '[\"Mallika Seth\"]'}, {'index': 49999955, 'tconst': 'tt2453080', 'ordering': 10, 'nconst': 'nm1213248', 'category': 'actor', 'job': '\\\\N', 'characters': '[\"Madi\"]'}, {'index': 49999956, 'tconst': 'tt2453080', 'ordering': 11, 'nconst': 'nm1637844', 'category': 'director', 'job': '\\\\N', 'characters': '\\\\N'}, {'index': 49999957, 'tconst': 'tt2453080', 'ordering': 12, 'nconst': 'nm1476919', 'category': 'director', 'job': '\\\\N', 'characters': '\\\\N'}, {'index': 49999958, 'tconst': 'tt2453080', 'ordering': 13, 'nconst': 'nm14090788', 'category': 'director', 'job': 'creative director', 'characters': '\\\\N'}, {'index': 49999959, 'tconst': 'tt2453080', 'ordering': 14, 'nconst': 'nm14090788', 'category': 'writer', 'job': 'additional dialogue', 'characters': '\\\\N'}, {'index': 49999960, 'tconst': 'tt2453080', 'ordering': 15, 'nconst': 'nm1402184', 'category': 'writer', 'job': '\\\\N', 'characters': '\\\\N'}, {'index': 49999961, 'tconst': 'tt2453080', 'ordering': 16, 'nconst': 'nm4273214', 'category': 'editor', 'job': '\\\\N', 'characters': '\\\\N'}, {'index': 49999962, 'tconst': 'tt2453082', 'ordering': 1, 'nconst': 'nm9108676', 'category': 'actor', 'job': '\\\\N', 'characters': '[\"Raghav\"]'}, {'index': 49999963, 'tconst': 'tt2453082', 'ordering': 2, 'nconst': 'nm1267095', 'category': 'actor', 'job': '\\\\N', 'characters': '[\"Purab Mehra\"]'}, {'index': 49999964, 'tconst': 'tt2453082', 'ordering': 3, 'nconst': 'nm0013157', 'category': 'actor', 'job': '\\\\N', 'characters': '[\"Armaan Suri\"]'}, {'index': 49999965, 'tconst': 'tt2453082', 'ordering': 4, 'nconst': 'nm1747318', 'category': 'actor', 'job': '\\\\N', 'characters': '[\"Detective\"]'}, {'index': 49999966, 'tconst': 'tt2453082', 'ordering': 5, 'nconst': 'nm0080205', 'category': 'actor', 'job': '\\\\N', 'characters': '[\"CJ\"]'}, {'index': 49999967, 'tconst': 'tt2453082', 'ordering': 6, 'nconst': 'nm1463550', 'category': 'actor', 'job': '\\\\N', 'characters': '[\"Nandu\"]'}, {'index': 49999968, 'tconst': 'tt2453082', 'ordering': 7, 'nconst': 'nm0348481', 'category': 'actress', 'job': '\\\\N', 'characters': '[\"Nandini\"]'}, {'index': 49999969, 'tconst': 'tt2453082', 'ordering': 8, 'nconst': 'nm1348390', 'category': 'actress', 'job': '\\\\N', 'characters': '[\"Jassi\\'s Mother\"]'}, {'index': 49999970, 'tconst': 'tt2453082', 'ordering': 9, 'nconst': 'nm1585698', 'category': 'actress', 'job': '\\\\N', 'characters': '[\"Mallika Seth\"]'}, {'index': 49999971, 'tconst': 'tt2453082', 'ordering': 10, 'nconst': 'nm1213248', 'category': 'actor', 'job': '\\\\N', 'characters': '[\"Madi\"]'}, {'index': 49999972, 'tconst': 'tt2453082', 'ordering': 11, 'nconst': 'nm1637844', 'category': 'director', 'job': '\\\\N', 'characters': '\\\\N'}, {'index': 49999973, 'tconst': 'tt2453082', 'ordering': 12, 'nconst': 'nm1476919', 'category': 'director', 'job': '\\\\N', 'characters': '\\\\N'}, {'index': 49999974, 'tconst': 'tt2453082', 'ordering': 13, 'nconst': 'nm14090788', 'category': 'director', 'job': 'creative director', 'characters': '\\\\N'}, {'index': 49999975, 'tconst': 'tt2453082', 'ordering': 14, 'nconst': 'nm14090788', 'category': 'writer', 'job': 'additional dialogue', 'characters': '\\\\N'}, {'index': 49999976, 'tconst': 'tt2453082', 'ordering': 15, 'nconst': 'nm1402184', 'category': 'writer', 'job': '\\\\N', 'characters': '\\\\N'}, {'index': 49999977, 'tconst': 'tt2453082', 'ordering': 16, 'nconst': 'nm4273214', 'category': 'editor', 'job': '\\\\N', 'characters': '\\\\N'}, {'index': 49999978, 'tconst': 'tt24530820', 'ordering': 1, 'nconst': 'nm12770331', 'category': 'actor', 'job': '\\\\N', 'characters': '[\"The DKC\"]'}, {'index': 49999979, 'tconst': 'tt24530820', 'ordering': 2, 'nconst': 'nm0199868', 'category': 'actor', 'job': '\\\\N', 'characters': '[\"Christopher Daniels\"]'}, {'index': 49999980, 'tconst': 'tt24530820', 'ordering': 3, 'nconst': 'nm8581245', 'category': 'actor', 'job': '\\\\N', 'characters': '[\"David Finlay\"]'}, {'index': 49999981, 'tconst': 'tt24530820', 'ordering': 4, 'nconst': 'nm3845017', 'category': 'actor', 'job': '\\\\N', 'characters': '[\"Bobby Fish\"]'}, {'index': 49999982, 'tconst': 'tt24530820', 'ordering': 5, 'nconst': 'nm8278334', 'category': 'actor', 'job': '\\\\N', 'characters': '[\"Royce Isaacs\"]'}, {'index': 49999983, 'tconst': 'tt24530820', 'ordering': 6, 'nconst': 'nm8581243', 'category': 'actor', 'job': '\\\\N', 'characters': '[\"Hikuleo\"]'}, {'index': 49999984, 'tconst': 'tt24530820', 'ordering': 7, 'nconst': 'nm2110050', 'category': 'actor', 'job': '\\\\N', 'characters': '[\"Alex Koslov\"]'}, {'index': 49999985, 'tconst': 'tt24530820', 'ordering': 8, 'nconst': 'nm1225473', 'category': 'actor', 'job': '\\\\N', 'characters': '[\"Kenny King\"]'}, {'index': 49999986, 'tconst': 'tt24530820', 'ordering': 9, 'nconst': 'nm7093779', 'category': 'actor', 'job': '\\\\N', 'characters': '[\"Tama Tonga\"]'}, {'index': 49999987, 'tconst': 'tt24530820', 'ordering': 10, 'nconst': 'nm8348439', 'category': 'actor', 'job': '\\\\N', 'characters': '[\"Jorel Nelson\"]'}, {'index': 49999988, 'tconst': 'tt2453084', 'ordering': 1, 'nconst': 'nm9108676', 'category': 'actor', 'job': '\\\\N', 'characters': '[\"Raghav\"]'}, {'index': 49999989, 'tconst': 'tt2453084', 'ordering': 2, 'nconst': 'nm1267095', 'category': 'actor', 'job': '\\\\N', 'characters': '[\"Purab Mehra\"]'}, {'index': 49999990, 'tconst': 'tt2453084', 'ordering': 3, 'nconst': 'nm0013157', 'category': 'actor', 'job': '\\\\N', 'characters': '[\"Armaan Suri\"]'}, {'index': 49999991, 'tconst': 'tt2453084', 'ordering': 4, 'nconst': 'nm1747318', 'category': 'actor', 'job': '\\\\N', 'characters': '[\"Detective\"]'}, {'index': 49999992, 'tconst': 'tt2453084', 'ordering': 5, 'nconst': 'nm0080205', 'category': 'actor', 'job': '\\\\N', 'characters': '[\"CJ\"]'}, {'index': 49999993, 'tconst': 'tt2453084', 'ordering': 6, 'nconst': 'nm1463550', 'category': 'actor', 'job': '\\\\N', 'characters': '[\"Nandu\"]'}, {'index': 49999994, 'tconst': 'tt2453084', 'ordering': 7, 'nconst': 'nm0348481', 'category': 'actress', 'job': '\\\\N', 'characters': '[\"Nandini\"]'}, {'index': 49999995, 'tconst': 'tt2453084', 'ordering': 8, 'nconst': 'nm1348390', 'category': 'actress', 'job': '\\\\N', 'characters': '[\"Jassi\\'s Mother\"]'}, {'index': 49999996, 'tconst': 'tt2453084', 'ordering': 9, 'nconst': 'nm1585698', 'category': 'actress', 'job': '\\\\N', 'characters': '[\"Mallika Seth\"]'}, {'index': 49999997, 'tconst': 'tt2453084', 'ordering': 10, 'nconst': 'nm1213248', 'category': 'actor', 'job': '\\\\N', 'characters': '[\"Madi\"]'}, {'index': 49999998, 'tconst': 'tt2453084', 'ordering': 11, 'nconst': 'nm1637844', 'category': 'director', 'job': '\\\\N', 'characters': '\\\\N'}, {'index': 49999999, 'tconst': 'tt2453084', 'ordering': 12, 'nconst': 'nm1476919', 'category': 'director', 'job': '\\\\N', 'characters': '\\\\N'}]]",
     "output_type": "error",
     "traceback": [
      "\u001b[31m---------------------------------------------------------------------------\u001b[39m",
      "\u001b[31mMemoryError\u001b[39m                               Traceback (most recent call last)",
      "\u001b[36mFile \u001b[39m\u001b[32mc:\\Users\\profe\\AppData\\Local\\Programs\\Python\\Python313\\Lib\\site-packages\\sqlalchemy\\engine\\base.py:1811\u001b[39m, in \u001b[36mConnection._execute_context\u001b[39m\u001b[34m(self, dialect, constructor, statement, parameters, execution_options, *args, **kw)\u001b[39m\n\u001b[32m   1809\u001b[39m         conn = \u001b[38;5;28mself\u001b[39m._revalidate_connection()\n\u001b[32m-> \u001b[39m\u001b[32m1811\u001b[39m     context = \u001b[43mconstructor\u001b[49m\u001b[43m(\u001b[49m\n\u001b[32m   1812\u001b[39m \u001b[43m        \u001b[49m\u001b[43mdialect\u001b[49m\u001b[43m,\u001b[49m\u001b[43m \u001b[49m\u001b[38;5;28;43mself\u001b[39;49m\u001b[43m,\u001b[49m\u001b[43m \u001b[49m\u001b[43mconn\u001b[49m\u001b[43m,\u001b[49m\u001b[43m \u001b[49m\u001b[43mexecution_options\u001b[49m\u001b[43m,\u001b[49m\u001b[43m \u001b[49m\u001b[43m*\u001b[49m\u001b[43margs\u001b[49m\u001b[43m,\u001b[49m\u001b[43m \u001b[49m\u001b[43m*\u001b[49m\u001b[43m*\u001b[49m\u001b[43mkw\u001b[49m\n\u001b[32m   1813\u001b[39m \u001b[43m    \u001b[49m\u001b[43m)\u001b[49m\n\u001b[32m   1814\u001b[39m \u001b[38;5;28;01mexcept\u001b[39;00m (exc.PendingRollbackError, exc.ResourceClosedError):\n",
      "\u001b[36mFile \u001b[39m\u001b[32mc:\\Users\\profe\\AppData\\Local\\Programs\\Python\\Python313\\Lib\\site-packages\\sqlalchemy\\engine\\default.py:1406\u001b[39m, in \u001b[36mDefaultExecutionContext._init_compiled\u001b[39m\u001b[34m(cls, dialect, connection, dbapi_connection, execution_options, compiled, parameters, invoked_statement, extracted_parameters, cache_hit)\u001b[39m\n\u001b[32m   1404\u001b[39m \u001b[38;5;28;01melse\u001b[39;00m:\n\u001b[32m   1405\u001b[39m     \u001b[38;5;28mself\u001b[39m.compiled_parameters = [\n\u001b[32m-> \u001b[39m\u001b[32m1406\u001b[39m         compiled.construct_params(\n\u001b[32m   1407\u001b[39m             m,\n\u001b[32m   1408\u001b[39m             escape_names=\u001b[38;5;28;01mFalse\u001b[39;00m,\n\u001b[32m   1409\u001b[39m             _group_number=grp,\n\u001b[32m   1410\u001b[39m             extracted_parameters=extracted_parameters,\n\u001b[32m   1411\u001b[39m         )\n\u001b[32m   1412\u001b[39m         \u001b[38;5;28;01mfor\u001b[39;00m grp, m \u001b[38;5;129;01min\u001b[39;00m \u001b[38;5;28menumerate\u001b[39m(parameters)\n\u001b[32m   1413\u001b[39m     ]\n\u001b[32m   1415\u001b[39m     \u001b[38;5;28;01mif\u001b[39;00m \u001b[38;5;28mlen\u001b[39m(parameters) > \u001b[32m1\u001b[39m:\n",
      "\u001b[31mMemoryError\u001b[39m: ",
      "\nThe above exception was the direct cause of the following exception:\n",
      "\u001b[31mStatementError\u001b[39m                            Traceback (most recent call last)",
      "\u001b[36mCell\u001b[39m\u001b[36m \u001b[39m\u001b[32mIn[49]\u001b[39m\u001b[32m, line 1\u001b[39m\n\u001b[32m----> \u001b[39m\u001b[32m1\u001b[39m \u001b[43minsights\u001b[49m\u001b[43m.\u001b[49m\u001b[43miloc\u001b[49m\u001b[43m[\u001b[49m\u001b[43m:\u001b[49m\u001b[32;43m50000000\u001b[39;49m\u001b[43m,\u001b[49m\u001b[43m:\u001b[49m\u001b[43m]\u001b[49m\u001b[43m.\u001b[49m\u001b[43mto_sql\u001b[49m\u001b[43m(\u001b[49m\u001b[33;43m\"\u001b[39;49m\u001b[33;43mtitle_principals\u001b[39;49m\u001b[33;43m\"\u001b[39;49m\u001b[43m,\u001b[49m\u001b[43m \u001b[49m\u001b[43mif_exists\u001b[49m\u001b[43m=\u001b[49m\u001b[33;43m\"\u001b[39;49m\u001b[33;43mreplace\u001b[39;49m\u001b[33;43m\"\u001b[39;49m\u001b[43m,\u001b[49m\u001b[43m \u001b[49m\u001b[43mcon\u001b[49m\u001b[43m=\u001b[49m\u001b[43mengine\u001b[49m\u001b[43m)\u001b[49m\n",
      "\u001b[36mFile \u001b[39m\u001b[32mc:\\Users\\profe\\AppData\\Local\\Programs\\Python\\Python313\\Lib\\site-packages\\pandas\\util\\_decorators.py:333\u001b[39m, in \u001b[36mdeprecate_nonkeyword_arguments.<locals>.decorate.<locals>.wrapper\u001b[39m\u001b[34m(*args, **kwargs)\u001b[39m\n\u001b[32m    327\u001b[39m \u001b[38;5;28;01mif\u001b[39;00m \u001b[38;5;28mlen\u001b[39m(args) > num_allow_args:\n\u001b[32m    328\u001b[39m     warnings.warn(\n\u001b[32m    329\u001b[39m         msg.format(arguments=_format_argument_list(allow_args)),\n\u001b[32m    330\u001b[39m         \u001b[38;5;167;01mFutureWarning\u001b[39;00m,\n\u001b[32m    331\u001b[39m         stacklevel=find_stack_level(),\n\u001b[32m    332\u001b[39m     )\n\u001b[32m--> \u001b[39m\u001b[32m333\u001b[39m \u001b[38;5;28;01mreturn\u001b[39;00m \u001b[43mfunc\u001b[49m\u001b[43m(\u001b[49m\u001b[43m*\u001b[49m\u001b[43margs\u001b[49m\u001b[43m,\u001b[49m\u001b[43m \u001b[49m\u001b[43m*\u001b[49m\u001b[43m*\u001b[49m\u001b[43mkwargs\u001b[49m\u001b[43m)\u001b[49m\n",
      "\u001b[36mFile \u001b[39m\u001b[32mc:\\Users\\profe\\AppData\\Local\\Programs\\Python\\Python313\\Lib\\site-packages\\pandas\\core\\generic.py:3106\u001b[39m, in \u001b[36mNDFrame.to_sql\u001b[39m\u001b[34m(self, name, con, schema, if_exists, index, index_label, chunksize, dtype, method)\u001b[39m\n\u001b[32m   2908\u001b[39m \u001b[38;5;250m\u001b[39m\u001b[33;03m\"\"\"\u001b[39;00m\n\u001b[32m   2909\u001b[39m \u001b[33;03mWrite records stored in a DataFrame to a SQL database.\u001b[39;00m\n\u001b[32m   2910\u001b[39m \n\u001b[32m   (...)\u001b[39m\u001b[32m   3102\u001b[39m \u001b[33;03m[(1,), (None,), (2,)]\u001b[39;00m\n\u001b[32m   3103\u001b[39m \u001b[33;03m\"\"\"\u001b[39;00m  \u001b[38;5;66;03m# noqa: E501\u001b[39;00m\n\u001b[32m   3104\u001b[39m \u001b[38;5;28;01mfrom\u001b[39;00m\u001b[38;5;250m \u001b[39m\u001b[34;01mpandas\u001b[39;00m\u001b[34;01m.\u001b[39;00m\u001b[34;01mio\u001b[39;00m\u001b[38;5;250m \u001b[39m\u001b[38;5;28;01mimport\u001b[39;00m sql\n\u001b[32m-> \u001b[39m\u001b[32m3106\u001b[39m \u001b[38;5;28;01mreturn\u001b[39;00m \u001b[43msql\u001b[49m\u001b[43m.\u001b[49m\u001b[43mto_sql\u001b[49m\u001b[43m(\u001b[49m\n\u001b[32m   3107\u001b[39m \u001b[43m    \u001b[49m\u001b[38;5;28;43mself\u001b[39;49m\u001b[43m,\u001b[49m\n\u001b[32m   3108\u001b[39m \u001b[43m    \u001b[49m\u001b[43mname\u001b[49m\u001b[43m,\u001b[49m\n\u001b[32m   3109\u001b[39m \u001b[43m    \u001b[49m\u001b[43mcon\u001b[49m\u001b[43m,\u001b[49m\n\u001b[32m   3110\u001b[39m \u001b[43m    \u001b[49m\u001b[43mschema\u001b[49m\u001b[43m=\u001b[49m\u001b[43mschema\u001b[49m\u001b[43m,\u001b[49m\n\u001b[32m   3111\u001b[39m \u001b[43m    \u001b[49m\u001b[43mif_exists\u001b[49m\u001b[43m=\u001b[49m\u001b[43mif_exists\u001b[49m\u001b[43m,\u001b[49m\n\u001b[32m   3112\u001b[39m \u001b[43m    \u001b[49m\u001b[43mindex\u001b[49m\u001b[43m=\u001b[49m\u001b[43mindex\u001b[49m\u001b[43m,\u001b[49m\n\u001b[32m   3113\u001b[39m \u001b[43m    \u001b[49m\u001b[43mindex_label\u001b[49m\u001b[43m=\u001b[49m\u001b[43mindex_label\u001b[49m\u001b[43m,\u001b[49m\n\u001b[32m   3114\u001b[39m \u001b[43m    \u001b[49m\u001b[43mchunksize\u001b[49m\u001b[43m=\u001b[49m\u001b[43mchunksize\u001b[49m\u001b[43m,\u001b[49m\n\u001b[32m   3115\u001b[39m \u001b[43m    \u001b[49m\u001b[43mdtype\u001b[49m\u001b[43m=\u001b[49m\u001b[43mdtype\u001b[49m\u001b[43m,\u001b[49m\n\u001b[32m   3116\u001b[39m \u001b[43m    \u001b[49m\u001b[43mmethod\u001b[49m\u001b[43m=\u001b[49m\u001b[43mmethod\u001b[49m\u001b[43m,\u001b[49m\n\u001b[32m   3117\u001b[39m \u001b[43m\u001b[49m\u001b[43m)\u001b[49m\n",
      "\u001b[36mFile \u001b[39m\u001b[32mc:\\Users\\profe\\AppData\\Local\\Programs\\Python\\Python313\\Lib\\site-packages\\pandas\\io\\sql.py:844\u001b[39m, in \u001b[36mto_sql\u001b[39m\u001b[34m(frame, name, con, schema, if_exists, index, index_label, chunksize, dtype, method, engine, **engine_kwargs)\u001b[39m\n\u001b[32m    839\u001b[39m     \u001b[38;5;28;01mraise\u001b[39;00m \u001b[38;5;167;01mNotImplementedError\u001b[39;00m(\n\u001b[32m    840\u001b[39m         \u001b[33m\"\u001b[39m\u001b[33m'\u001b[39m\u001b[33mframe\u001b[39m\u001b[33m'\u001b[39m\u001b[33m argument should be either a Series or a DataFrame\u001b[39m\u001b[33m\"\u001b[39m\n\u001b[32m    841\u001b[39m     )\n\u001b[32m    843\u001b[39m \u001b[38;5;28;01mwith\u001b[39;00m pandasSQL_builder(con, schema=schema, need_transaction=\u001b[38;5;28;01mTrue\u001b[39;00m) \u001b[38;5;28;01mas\u001b[39;00m pandas_sql:\n\u001b[32m--> \u001b[39m\u001b[32m844\u001b[39m     \u001b[38;5;28;01mreturn\u001b[39;00m \u001b[43mpandas_sql\u001b[49m\u001b[43m.\u001b[49m\u001b[43mto_sql\u001b[49m\u001b[43m(\u001b[49m\n\u001b[32m    845\u001b[39m \u001b[43m        \u001b[49m\u001b[43mframe\u001b[49m\u001b[43m,\u001b[49m\n\u001b[32m    846\u001b[39m \u001b[43m        \u001b[49m\u001b[43mname\u001b[49m\u001b[43m,\u001b[49m\n\u001b[32m    847\u001b[39m \u001b[43m        \u001b[49m\u001b[43mif_exists\u001b[49m\u001b[43m=\u001b[49m\u001b[43mif_exists\u001b[49m\u001b[43m,\u001b[49m\n\u001b[32m    848\u001b[39m \u001b[43m        \u001b[49m\u001b[43mindex\u001b[49m\u001b[43m=\u001b[49m\u001b[43mindex\u001b[49m\u001b[43m,\u001b[49m\n\u001b[32m    849\u001b[39m \u001b[43m        \u001b[49m\u001b[43mindex_label\u001b[49m\u001b[43m=\u001b[49m\u001b[43mindex_label\u001b[49m\u001b[43m,\u001b[49m\n\u001b[32m    850\u001b[39m \u001b[43m        \u001b[49m\u001b[43mschema\u001b[49m\u001b[43m=\u001b[49m\u001b[43mschema\u001b[49m\u001b[43m,\u001b[49m\n\u001b[32m    851\u001b[39m \u001b[43m        \u001b[49m\u001b[43mchunksize\u001b[49m\u001b[43m=\u001b[49m\u001b[43mchunksize\u001b[49m\u001b[43m,\u001b[49m\n\u001b[32m    852\u001b[39m \u001b[43m        \u001b[49m\u001b[43mdtype\u001b[49m\u001b[43m=\u001b[49m\u001b[43mdtype\u001b[49m\u001b[43m,\u001b[49m\n\u001b[32m    853\u001b[39m \u001b[43m        \u001b[49m\u001b[43mmethod\u001b[49m\u001b[43m=\u001b[49m\u001b[43mmethod\u001b[49m\u001b[43m,\u001b[49m\n\u001b[32m    854\u001b[39m \u001b[43m        \u001b[49m\u001b[43mengine\u001b[49m\u001b[43m=\u001b[49m\u001b[43mengine\u001b[49m\u001b[43m,\u001b[49m\n\u001b[32m    855\u001b[39m \u001b[43m        \u001b[49m\u001b[43m*\u001b[49m\u001b[43m*\u001b[49m\u001b[43mengine_kwargs\u001b[49m\u001b[43m,\u001b[49m\n\u001b[32m    856\u001b[39m \u001b[43m    \u001b[49m\u001b[43m)\u001b[49m\n",
      "\u001b[36mFile \u001b[39m\u001b[32mc:\\Users\\profe\\AppData\\Local\\Programs\\Python\\Python313\\Lib\\site-packages\\pandas\\io\\sql.py:2030\u001b[39m, in \u001b[36mSQLDatabase.to_sql\u001b[39m\u001b[34m(self, frame, name, if_exists, index, index_label, schema, chunksize, dtype, method, engine, **engine_kwargs)\u001b[39m\n\u001b[32m   2018\u001b[39m sql_engine = get_engine(engine)\n\u001b[32m   2020\u001b[39m table = \u001b[38;5;28mself\u001b[39m.prep_table(\n\u001b[32m   2021\u001b[39m     frame=frame,\n\u001b[32m   2022\u001b[39m     name=name,\n\u001b[32m   (...)\u001b[39m\u001b[32m   2027\u001b[39m     dtype=dtype,\n\u001b[32m   2028\u001b[39m )\n\u001b[32m-> \u001b[39m\u001b[32m2030\u001b[39m total_inserted = \u001b[43msql_engine\u001b[49m\u001b[43m.\u001b[49m\u001b[43minsert_records\u001b[49m\u001b[43m(\u001b[49m\n\u001b[32m   2031\u001b[39m \u001b[43m    \u001b[49m\u001b[43mtable\u001b[49m\u001b[43m=\u001b[49m\u001b[43mtable\u001b[49m\u001b[43m,\u001b[49m\n\u001b[32m   2032\u001b[39m \u001b[43m    \u001b[49m\u001b[43mcon\u001b[49m\u001b[43m=\u001b[49m\u001b[38;5;28;43mself\u001b[39;49m\u001b[43m.\u001b[49m\u001b[43mcon\u001b[49m\u001b[43m,\u001b[49m\n\u001b[32m   2033\u001b[39m \u001b[43m    \u001b[49m\u001b[43mframe\u001b[49m\u001b[43m=\u001b[49m\u001b[43mframe\u001b[49m\u001b[43m,\u001b[49m\n\u001b[32m   2034\u001b[39m \u001b[43m    \u001b[49m\u001b[43mname\u001b[49m\u001b[43m=\u001b[49m\u001b[43mname\u001b[49m\u001b[43m,\u001b[49m\n\u001b[32m   2035\u001b[39m \u001b[43m    \u001b[49m\u001b[43mindex\u001b[49m\u001b[43m=\u001b[49m\u001b[43mindex\u001b[49m\u001b[43m,\u001b[49m\n\u001b[32m   2036\u001b[39m \u001b[43m    \u001b[49m\u001b[43mschema\u001b[49m\u001b[43m=\u001b[49m\u001b[43mschema\u001b[49m\u001b[43m,\u001b[49m\n\u001b[32m   2037\u001b[39m \u001b[43m    \u001b[49m\u001b[43mchunksize\u001b[49m\u001b[43m=\u001b[49m\u001b[43mchunksize\u001b[49m\u001b[43m,\u001b[49m\n\u001b[32m   2038\u001b[39m \u001b[43m    \u001b[49m\u001b[43mmethod\u001b[49m\u001b[43m=\u001b[49m\u001b[43mmethod\u001b[49m\u001b[43m,\u001b[49m\n\u001b[32m   2039\u001b[39m \u001b[43m    \u001b[49m\u001b[43m*\u001b[49m\u001b[43m*\u001b[49m\u001b[43mengine_kwargs\u001b[49m\u001b[43m,\u001b[49m\n\u001b[32m   2040\u001b[39m \u001b[43m\u001b[49m\u001b[43m)\u001b[49m\n\u001b[32m   2042\u001b[39m \u001b[38;5;28mself\u001b[39m.check_case_sensitive(name=name, schema=schema)\n\u001b[32m   2043\u001b[39m \u001b[38;5;28;01mreturn\u001b[39;00m total_inserted\n",
      "\u001b[36mFile \u001b[39m\u001b[32mc:\\Users\\profe\\AppData\\Local\\Programs\\Python\\Python313\\Lib\\site-packages\\pandas\\io\\sql.py:1579\u001b[39m, in \u001b[36mSQLAlchemyEngine.insert_records\u001b[39m\u001b[34m(self, table, con, frame, name, index, schema, chunksize, method, **engine_kwargs)\u001b[39m\n\u001b[32m   1577\u001b[39m \u001b[38;5;28;01mif\u001b[39;00m re.search(msg, err_text):\n\u001b[32m   1578\u001b[39m     \u001b[38;5;28;01mraise\u001b[39;00m \u001b[38;5;167;01mValueError\u001b[39;00m(\u001b[33m\"\u001b[39m\u001b[33minf cannot be used with MySQL\u001b[39m\u001b[33m\"\u001b[39m) \u001b[38;5;28;01mfrom\u001b[39;00m\u001b[38;5;250m \u001b[39m\u001b[34;01merr\u001b[39;00m\n\u001b[32m-> \u001b[39m\u001b[32m1579\u001b[39m \u001b[38;5;28;01mraise\u001b[39;00m err\n",
      "\u001b[36mFile \u001b[39m\u001b[32mc:\\Users\\profe\\AppData\\Local\\Programs\\Python\\Python313\\Lib\\site-packages\\pandas\\io\\sql.py:1570\u001b[39m, in \u001b[36mSQLAlchemyEngine.insert_records\u001b[39m\u001b[34m(self, table, con, frame, name, index, schema, chunksize, method, **engine_kwargs)\u001b[39m\n\u001b[32m   1567\u001b[39m \u001b[38;5;28;01mfrom\u001b[39;00m\u001b[38;5;250m \u001b[39m\u001b[34;01msqlalchemy\u001b[39;00m\u001b[38;5;250m \u001b[39m\u001b[38;5;28;01mimport\u001b[39;00m exc\n\u001b[32m   1569\u001b[39m \u001b[38;5;28;01mtry\u001b[39;00m:\n\u001b[32m-> \u001b[39m\u001b[32m1570\u001b[39m     \u001b[38;5;28;01mreturn\u001b[39;00m \u001b[43mtable\u001b[49m\u001b[43m.\u001b[49m\u001b[43minsert\u001b[49m\u001b[43m(\u001b[49m\u001b[43mchunksize\u001b[49m\u001b[43m=\u001b[49m\u001b[43mchunksize\u001b[49m\u001b[43m,\u001b[49m\u001b[43m \u001b[49m\u001b[43mmethod\u001b[49m\u001b[43m=\u001b[49m\u001b[43mmethod\u001b[49m\u001b[43m)\u001b[49m\n\u001b[32m   1571\u001b[39m \u001b[38;5;28;01mexcept\u001b[39;00m exc.StatementError \u001b[38;5;28;01mas\u001b[39;00m err:\n\u001b[32m   1572\u001b[39m     \u001b[38;5;66;03m# GH34431\u001b[39;00m\n\u001b[32m   1573\u001b[39m     \u001b[38;5;66;03m# https://stackoverflow.com/a/67358288/6067848\u001b[39;00m\n\u001b[32m   1574\u001b[39m     msg = \u001b[33mr\u001b[39m\u001b[33m\"\"\"\u001b[39m\u001b[33m(\u001b[39m\u001b[33m\\\u001b[39m\u001b[33m(1054, \u001b[39m\u001b[33m\"\u001b[39m\u001b[33mUnknown column \u001b[39m\u001b[33m'\u001b[39m\u001b[33minf(e0)?\u001b[39m\u001b[33m'\u001b[39m\u001b[33m in \u001b[39m\u001b[33m'\u001b[39m\u001b[33mfield list\u001b[39m\u001b[33m'\u001b[39m\u001b[33m\"\u001b[39m\u001b[33m\\\u001b[39m\u001b[33m))(?#\u001b[39m\n\u001b[32m   1575\u001b[39m \u001b[33m    )|inf can not be used with MySQL\u001b[39m\u001b[33m\"\"\"\u001b[39m\n",
      "\u001b[36mFile \u001b[39m\u001b[32mc:\\Users\\profe\\AppData\\Local\\Programs\\Python\\Python313\\Lib\\site-packages\\pandas\\io\\sql.py:1121\u001b[39m, in \u001b[36mSQLTable.insert\u001b[39m\u001b[34m(self, chunksize, method)\u001b[39m\n\u001b[32m   1118\u001b[39m     \u001b[38;5;28;01mbreak\u001b[39;00m\n\u001b[32m   1120\u001b[39m chunk_iter = \u001b[38;5;28mzip\u001b[39m(*(arr[start_i:end_i] \u001b[38;5;28;01mfor\u001b[39;00m arr \u001b[38;5;129;01min\u001b[39;00m data_list))\n\u001b[32m-> \u001b[39m\u001b[32m1121\u001b[39m num_inserted = \u001b[43mexec_insert\u001b[49m\u001b[43m(\u001b[49m\u001b[43mconn\u001b[49m\u001b[43m,\u001b[49m\u001b[43m \u001b[49m\u001b[43mkeys\u001b[49m\u001b[43m,\u001b[49m\u001b[43m \u001b[49m\u001b[43mchunk_iter\u001b[49m\u001b[43m)\u001b[49m\n\u001b[32m   1122\u001b[39m \u001b[38;5;66;03m# GH 46891\u001b[39;00m\n\u001b[32m   1123\u001b[39m \u001b[38;5;28;01mif\u001b[39;00m num_inserted \u001b[38;5;129;01mis\u001b[39;00m \u001b[38;5;129;01mnot\u001b[39;00m \u001b[38;5;28;01mNone\u001b[39;00m:\n",
      "\u001b[36mFile \u001b[39m\u001b[32mc:\\Users\\profe\\AppData\\Local\\Programs\\Python\\Python313\\Lib\\site-packages\\pandas\\io\\sql.py:1012\u001b[39m, in \u001b[36mSQLTable._execute_insert\u001b[39m\u001b[34m(self, conn, keys, data_iter)\u001b[39m\n\u001b[32m   1000\u001b[39m \u001b[38;5;250m\u001b[39m\u001b[33;03m\"\"\"\u001b[39;00m\n\u001b[32m   1001\u001b[39m \u001b[33;03mExecute SQL statement inserting data\u001b[39;00m\n\u001b[32m   1002\u001b[39m \n\u001b[32m   (...)\u001b[39m\u001b[32m   1009\u001b[39m \u001b[33;03m   Each item contains a list of values to be inserted\u001b[39;00m\n\u001b[32m   1010\u001b[39m \u001b[33;03m\"\"\"\u001b[39;00m\n\u001b[32m   1011\u001b[39m data = [\u001b[38;5;28mdict\u001b[39m(\u001b[38;5;28mzip\u001b[39m(keys, row)) \u001b[38;5;28;01mfor\u001b[39;00m row \u001b[38;5;129;01min\u001b[39;00m data_iter]\n\u001b[32m-> \u001b[39m\u001b[32m1012\u001b[39m result = \u001b[43mconn\u001b[49m\u001b[43m.\u001b[49m\u001b[43mexecute\u001b[49m\u001b[43m(\u001b[49m\u001b[38;5;28;43mself\u001b[39;49m\u001b[43m.\u001b[49m\u001b[43mtable\u001b[49m\u001b[43m.\u001b[49m\u001b[43minsert\u001b[49m\u001b[43m(\u001b[49m\u001b[43m)\u001b[49m\u001b[43m,\u001b[49m\u001b[43m \u001b[49m\u001b[43mdata\u001b[49m\u001b[43m)\u001b[49m\n\u001b[32m   1013\u001b[39m \u001b[38;5;28;01mreturn\u001b[39;00m result.rowcount\n",
      "\u001b[36mFile \u001b[39m\u001b[32mc:\\Users\\profe\\AppData\\Local\\Programs\\Python\\Python313\\Lib\\site-packages\\sqlalchemy\\engine\\base.py:1415\u001b[39m, in \u001b[36mConnection.execute\u001b[39m\u001b[34m(self, statement, parameters, execution_options)\u001b[39m\n\u001b[32m   1413\u001b[39m     \u001b[38;5;28;01mraise\u001b[39;00m exc.ObjectNotExecutableError(statement) \u001b[38;5;28;01mfrom\u001b[39;00m\u001b[38;5;250m \u001b[39m\u001b[34;01merr\u001b[39;00m\n\u001b[32m   1414\u001b[39m \u001b[38;5;28;01melse\u001b[39;00m:\n\u001b[32m-> \u001b[39m\u001b[32m1415\u001b[39m     \u001b[38;5;28;01mreturn\u001b[39;00m \u001b[43mmeth\u001b[49m\u001b[43m(\u001b[49m\n\u001b[32m   1416\u001b[39m \u001b[43m        \u001b[49m\u001b[38;5;28;43mself\u001b[39;49m\u001b[43m,\u001b[49m\n\u001b[32m   1417\u001b[39m \u001b[43m        \u001b[49m\u001b[43mdistilled_parameters\u001b[49m\u001b[43m,\u001b[49m\n\u001b[32m   1418\u001b[39m \u001b[43m        \u001b[49m\u001b[43mexecution_options\u001b[49m\u001b[43m \u001b[49m\u001b[38;5;129;43;01mor\u001b[39;49;00m\u001b[43m \u001b[49m\u001b[43mNO_OPTIONS\u001b[49m\u001b[43m,\u001b[49m\n\u001b[32m   1419\u001b[39m \u001b[43m    \u001b[49m\u001b[43m)\u001b[49m\n",
      "\u001b[36mFile \u001b[39m\u001b[32mc:\\Users\\profe\\AppData\\Local\\Programs\\Python\\Python313\\Lib\\site-packages\\sqlalchemy\\sql\\elements.py:523\u001b[39m, in \u001b[36mClauseElement._execute_on_connection\u001b[39m\u001b[34m(self, connection, distilled_params, execution_options)\u001b[39m\n\u001b[32m    521\u001b[39m     \u001b[38;5;28;01mif\u001b[39;00m TYPE_CHECKING:\n\u001b[32m    522\u001b[39m         \u001b[38;5;28;01massert\u001b[39;00m \u001b[38;5;28misinstance\u001b[39m(\u001b[38;5;28mself\u001b[39m, Executable)\n\u001b[32m--> \u001b[39m\u001b[32m523\u001b[39m     \u001b[38;5;28;01mreturn\u001b[39;00m \u001b[43mconnection\u001b[49m\u001b[43m.\u001b[49m\u001b[43m_execute_clauseelement\u001b[49m\u001b[43m(\u001b[49m\n\u001b[32m    524\u001b[39m \u001b[43m        \u001b[49m\u001b[38;5;28;43mself\u001b[39;49m\u001b[43m,\u001b[49m\u001b[43m \u001b[49m\u001b[43mdistilled_params\u001b[49m\u001b[43m,\u001b[49m\u001b[43m \u001b[49m\u001b[43mexecution_options\u001b[49m\n\u001b[32m    525\u001b[39m \u001b[43m    \u001b[49m\u001b[43m)\u001b[49m\n\u001b[32m    526\u001b[39m \u001b[38;5;28;01melse\u001b[39;00m:\n\u001b[32m    527\u001b[39m     \u001b[38;5;28;01mraise\u001b[39;00m exc.ObjectNotExecutableError(\u001b[38;5;28mself\u001b[39m)\n",
      "\u001b[36mFile \u001b[39m\u001b[32mc:\\Users\\profe\\AppData\\Local\\Programs\\Python\\Python313\\Lib\\site-packages\\sqlalchemy\\engine\\base.py:1637\u001b[39m, in \u001b[36mConnection._execute_clauseelement\u001b[39m\u001b[34m(self, elem, distilled_parameters, execution_options)\u001b[39m\n\u001b[32m   1625\u001b[39m compiled_cache: Optional[CompiledCacheType] = execution_options.get(\n\u001b[32m   1626\u001b[39m     \u001b[33m\"\u001b[39m\u001b[33mcompiled_cache\u001b[39m\u001b[33m\"\u001b[39m, \u001b[38;5;28mself\u001b[39m.engine._compiled_cache\n\u001b[32m   1627\u001b[39m )\n\u001b[32m   1629\u001b[39m compiled_sql, extracted_params, cache_hit = elem._compile_w_cache(\n\u001b[32m   1630\u001b[39m     dialect=dialect,\n\u001b[32m   1631\u001b[39m     compiled_cache=compiled_cache,\n\u001b[32m   (...)\u001b[39m\u001b[32m   1635\u001b[39m     linting=\u001b[38;5;28mself\u001b[39m.dialect.compiler_linting | compiler.WARN_LINTING,\n\u001b[32m   1636\u001b[39m )\n\u001b[32m-> \u001b[39m\u001b[32m1637\u001b[39m ret = \u001b[38;5;28;43mself\u001b[39;49m\u001b[43m.\u001b[49m\u001b[43m_execute_context\u001b[49m\u001b[43m(\u001b[49m\n\u001b[32m   1638\u001b[39m \u001b[43m    \u001b[49m\u001b[43mdialect\u001b[49m\u001b[43m,\u001b[49m\n\u001b[32m   1639\u001b[39m \u001b[43m    \u001b[49m\u001b[43mdialect\u001b[49m\u001b[43m.\u001b[49m\u001b[43mexecution_ctx_cls\u001b[49m\u001b[43m.\u001b[49m\u001b[43m_init_compiled\u001b[49m\u001b[43m,\u001b[49m\n\u001b[32m   1640\u001b[39m \u001b[43m    \u001b[49m\u001b[43mcompiled_sql\u001b[49m\u001b[43m,\u001b[49m\n\u001b[32m   1641\u001b[39m \u001b[43m    \u001b[49m\u001b[43mdistilled_parameters\u001b[49m\u001b[43m,\u001b[49m\n\u001b[32m   1642\u001b[39m \u001b[43m    \u001b[49m\u001b[43mexecution_options\u001b[49m\u001b[43m,\u001b[49m\n\u001b[32m   1643\u001b[39m \u001b[43m    \u001b[49m\u001b[43mcompiled_sql\u001b[49m\u001b[43m,\u001b[49m\n\u001b[32m   1644\u001b[39m \u001b[43m    \u001b[49m\u001b[43mdistilled_parameters\u001b[49m\u001b[43m,\u001b[49m\n\u001b[32m   1645\u001b[39m \u001b[43m    \u001b[49m\u001b[43melem\u001b[49m\u001b[43m,\u001b[49m\n\u001b[32m   1646\u001b[39m \u001b[43m    \u001b[49m\u001b[43mextracted_params\u001b[49m\u001b[43m,\u001b[49m\n\u001b[32m   1647\u001b[39m \u001b[43m    \u001b[49m\u001b[43mcache_hit\u001b[49m\u001b[43m=\u001b[49m\u001b[43mcache_hit\u001b[49m\u001b[43m,\u001b[49m\n\u001b[32m   1648\u001b[39m \u001b[43m\u001b[49m\u001b[43m)\u001b[49m\n\u001b[32m   1649\u001b[39m \u001b[38;5;28;01mif\u001b[39;00m has_events:\n\u001b[32m   1650\u001b[39m     \u001b[38;5;28mself\u001b[39m.dispatch.after_execute(\n\u001b[32m   1651\u001b[39m         \u001b[38;5;28mself\u001b[39m,\n\u001b[32m   1652\u001b[39m         elem,\n\u001b[32m   (...)\u001b[39m\u001b[32m   1656\u001b[39m         ret,\n\u001b[32m   1657\u001b[39m     )\n",
      "\u001b[36mFile \u001b[39m\u001b[32mc:\\Users\\profe\\AppData\\Local\\Programs\\Python\\Python313\\Lib\\site-packages\\sqlalchemy\\engine\\base.py:1817\u001b[39m, in \u001b[36mConnection._execute_context\u001b[39m\u001b[34m(self, dialect, constructor, statement, parameters, execution_options, *args, **kw)\u001b[39m\n\u001b[32m   1815\u001b[39m     \u001b[38;5;28;01mraise\u001b[39;00m\n\u001b[32m   1816\u001b[39m \u001b[38;5;28;01mexcept\u001b[39;00m \u001b[38;5;167;01mBaseException\u001b[39;00m \u001b[38;5;28;01mas\u001b[39;00m e:\n\u001b[32m-> \u001b[39m\u001b[32m1817\u001b[39m     \u001b[38;5;28;43mself\u001b[39;49m\u001b[43m.\u001b[49m\u001b[43m_handle_dbapi_exception\u001b[49m\u001b[43m(\u001b[49m\n\u001b[32m   1818\u001b[39m \u001b[43m        \u001b[49m\u001b[43me\u001b[49m\u001b[43m,\u001b[49m\u001b[43m \u001b[49m\u001b[38;5;28;43mstr\u001b[39;49m\u001b[43m(\u001b[49m\u001b[43mstatement\u001b[49m\u001b[43m)\u001b[49m\u001b[43m,\u001b[49m\u001b[43m \u001b[49m\u001b[43mparameters\u001b[49m\u001b[43m,\u001b[49m\u001b[43m \u001b[49m\u001b[38;5;28;43;01mNone\u001b[39;49;00m\u001b[43m,\u001b[49m\u001b[43m \u001b[49m\u001b[38;5;28;43;01mNone\u001b[39;49;00m\n\u001b[32m   1819\u001b[39m \u001b[43m    \u001b[49m\u001b[43m)\u001b[49m\n\u001b[32m   1821\u001b[39m \u001b[38;5;28;01mif\u001b[39;00m (\n\u001b[32m   1822\u001b[39m     \u001b[38;5;28mself\u001b[39m._transaction\n\u001b[32m   1823\u001b[39m     \u001b[38;5;129;01mand\u001b[39;00m \u001b[38;5;129;01mnot\u001b[39;00m \u001b[38;5;28mself\u001b[39m._transaction.is_active\n\u001b[32m   (...)\u001b[39m\u001b[32m   1827\u001b[39m     )\n\u001b[32m   1828\u001b[39m ):\n\u001b[32m   1829\u001b[39m     \u001b[38;5;28mself\u001b[39m._invalid_transaction()\n",
      "\u001b[36mFile \u001b[39m\u001b[32mc:\\Users\\profe\\AppData\\Local\\Programs\\Python\\Python313\\Lib\\site-packages\\sqlalchemy\\engine\\base.py:2351\u001b[39m, in \u001b[36mConnection._handle_dbapi_exception\u001b[39m\u001b[34m(self, e, statement, parameters, cursor, context, is_sub_exec)\u001b[39m\n\u001b[32m   2349\u001b[39m \u001b[38;5;28;01melif\u001b[39;00m should_wrap:\n\u001b[32m   2350\u001b[39m     \u001b[38;5;28;01massert\u001b[39;00m sqlalchemy_exception \u001b[38;5;129;01mis\u001b[39;00m \u001b[38;5;129;01mnot\u001b[39;00m \u001b[38;5;28;01mNone\u001b[39;00m\n\u001b[32m-> \u001b[39m\u001b[32m2351\u001b[39m     \u001b[38;5;28;01mraise\u001b[39;00m sqlalchemy_exception.with_traceback(exc_info[\u001b[32m2\u001b[39m]) \u001b[38;5;28;01mfrom\u001b[39;00m\u001b[38;5;250m \u001b[39m\u001b[34;01me\u001b[39;00m\n\u001b[32m   2352\u001b[39m \u001b[38;5;28;01melse\u001b[39;00m:\n\u001b[32m   2353\u001b[39m     \u001b[38;5;28;01massert\u001b[39;00m exc_info[\u001b[32m1\u001b[39m] \u001b[38;5;129;01mis\u001b[39;00m \u001b[38;5;129;01mnot\u001b[39;00m \u001b[38;5;28;01mNone\u001b[39;00m\n",
      "\u001b[36mFile \u001b[39m\u001b[32mc:\\Users\\profe\\AppData\\Local\\Programs\\Python\\Python313\\Lib\\site-packages\\sqlalchemy\\engine\\base.py:1811\u001b[39m, in \u001b[36mConnection._execute_context\u001b[39m\u001b[34m(self, dialect, constructor, statement, parameters, execution_options, *args, **kw)\u001b[39m\n\u001b[32m   1808\u001b[39m     \u001b[38;5;28;01mif\u001b[39;00m conn \u001b[38;5;129;01mis\u001b[39;00m \u001b[38;5;28;01mNone\u001b[39;00m:\n\u001b[32m   1809\u001b[39m         conn = \u001b[38;5;28mself\u001b[39m._revalidate_connection()\n\u001b[32m-> \u001b[39m\u001b[32m1811\u001b[39m     context = \u001b[43mconstructor\u001b[49m\u001b[43m(\u001b[49m\n\u001b[32m   1812\u001b[39m \u001b[43m        \u001b[49m\u001b[43mdialect\u001b[49m\u001b[43m,\u001b[49m\u001b[43m \u001b[49m\u001b[38;5;28;43mself\u001b[39;49m\u001b[43m,\u001b[49m\u001b[43m \u001b[49m\u001b[43mconn\u001b[49m\u001b[43m,\u001b[49m\u001b[43m \u001b[49m\u001b[43mexecution_options\u001b[49m\u001b[43m,\u001b[49m\u001b[43m \u001b[49m\u001b[43m*\u001b[49m\u001b[43margs\u001b[49m\u001b[43m,\u001b[49m\u001b[43m \u001b[49m\u001b[43m*\u001b[49m\u001b[43m*\u001b[49m\u001b[43mkw\u001b[49m\n\u001b[32m   1813\u001b[39m \u001b[43m    \u001b[49m\u001b[43m)\u001b[49m\n\u001b[32m   1814\u001b[39m \u001b[38;5;28;01mexcept\u001b[39;00m (exc.PendingRollbackError, exc.ResourceClosedError):\n\u001b[32m   1815\u001b[39m     \u001b[38;5;28;01mraise\u001b[39;00m\n",
      "\u001b[36mFile \u001b[39m\u001b[32mc:\\Users\\profe\\AppData\\Local\\Programs\\Python\\Python313\\Lib\\site-packages\\sqlalchemy\\engine\\default.py:1406\u001b[39m, in \u001b[36mDefaultExecutionContext._init_compiled\u001b[39m\u001b[34m(cls, dialect, connection, dbapi_connection, execution_options, compiled, parameters, invoked_statement, extracted_parameters, cache_hit)\u001b[39m\n\u001b[32m   1398\u001b[39m     \u001b[38;5;28mself\u001b[39m.compiled_parameters = [\n\u001b[32m   1399\u001b[39m         compiled.construct_params(\n\u001b[32m   1400\u001b[39m             extracted_parameters=extracted_parameters,\n\u001b[32m   1401\u001b[39m             escape_names=\u001b[38;5;28;01mFalse\u001b[39;00m,\n\u001b[32m   1402\u001b[39m         )\n\u001b[32m   1403\u001b[39m     ]\n\u001b[32m   1404\u001b[39m \u001b[38;5;28;01melse\u001b[39;00m:\n\u001b[32m   1405\u001b[39m     \u001b[38;5;28mself\u001b[39m.compiled_parameters = [\n\u001b[32m-> \u001b[39m\u001b[32m1406\u001b[39m         compiled.construct_params(\n\u001b[32m   1407\u001b[39m             m,\n\u001b[32m   1408\u001b[39m             escape_names=\u001b[38;5;28;01mFalse\u001b[39;00m,\n\u001b[32m   1409\u001b[39m             _group_number=grp,\n\u001b[32m   1410\u001b[39m             extracted_parameters=extracted_parameters,\n\u001b[32m   1411\u001b[39m         )\n\u001b[32m   1412\u001b[39m         \u001b[38;5;28;01mfor\u001b[39;00m grp, m \u001b[38;5;129;01min\u001b[39;00m \u001b[38;5;28menumerate\u001b[39m(parameters)\n\u001b[32m   1413\u001b[39m     ]\n\u001b[32m   1415\u001b[39m     \u001b[38;5;28;01mif\u001b[39;00m \u001b[38;5;28mlen\u001b[39m(parameters) > \u001b[32m1\u001b[39m:\n\u001b[32m   1416\u001b[39m         \u001b[38;5;28;01mif\u001b[39;00m \u001b[38;5;28mself\u001b[39m.isinsert \u001b[38;5;129;01mand\u001b[39;00m compiled._insertmanyvalues:\n",
      "\u001b[31mStatementError\u001b[39m: (builtins.MemoryError) \n[SQL: INSERT INTO title_principals (`index`, tconst, ordering, nconst, category, job, characters) VALUES (%(index)s, %(tconst)s, %(ordering)s, %(nconst)s, %(category)s, %(job)s, %(characters)s)]\n[parameters: [{'index': 0, 'tconst': 'tt0000001', 'ordering': 1, 'nconst': 'nm1588970', 'category': 'self', 'job': '\\\\N', 'characters': '[\"Self\"]'}, {'index': 1, 'tconst': 'tt0000001', 'ordering': 2, 'nconst': 'nm0005690', 'category': 'director', 'job': '\\\\N', 'characters': '\\\\N'}, {'index': 2, 'tconst': 'tt0000001', 'ordering': 3, 'nconst': 'nm0005690', 'category': 'producer', 'job': 'producer', 'characters': '\\\\N'}, {'index': 3, 'tconst': 'tt0000001', 'ordering': 4, 'nconst': 'nm0374658', 'category': 'cinematographer', 'job': 'director of photography', 'characters': '\\\\N'}, {'index': 4, 'tconst': 'tt0000002', 'ordering': 1, 'nconst': 'nm0721526', 'category': 'director', 'job': '\\\\N', 'characters': '\\\\N'}, {'index': 5, 'tconst': 'tt0000002', 'ordering': 2, 'nconst': 'nm1335271', 'category': 'composer', 'job': '\\\\N', 'characters': '\\\\N'}, {'index': 6, 'tconst': 'tt0000003', 'ordering': 1, 'nconst': 'nm0721526', 'category': 'director', 'job': '\\\\N', 'characters': '\\\\N'}, {'index': 7, 'tconst': 'tt0000003', 'ordering': 2, 'nconst': 'nm0721526', 'category': 'writer', 'job': '\\\\N', 'characters': '\\\\N'}, {'index': 8, 'tconst': 'tt0000003', 'ordering': 3, 'nconst': 'nm1770680', 'category': 'producer', 'job': 'producer', 'characters': '\\\\N'}, {'index': 9, 'tconst': 'tt0000003', 'ordering': 4, 'nconst': 'nm0721526', 'category': 'producer', 'job': 'producer', 'characters': '\\\\N'}, {'index': 10, 'tconst': 'tt0000003', 'ordering': 5, 'nconst': 'nm1335271', 'category': 'composer', 'job': '\\\\N', 'characters': '\\\\N'}, {'index': 11, 'tconst': 'tt0000003', 'ordering': 6, 'nconst': 'nm5442200', 'category': 'editor', 'job': 'editor', 'characters': '\\\\N'}, {'index': 12, 'tconst': 'tt0000004', 'ordering': 1, 'nconst': 'nm0721526', 'category': 'director', 'job': '\\\\N', 'characters': '\\\\N'}, {'index': 13, 'tconst': 'tt0000004', 'ordering': 2, 'nconst': 'nm1335271', 'category': 'composer', 'job': '\\\\N', 'characters': '\\\\N'}, {'index': 14, 'tconst': 'tt0000005', 'ordering': 1, 'nconst': 'nm0443482', 'category': 'actor', 'job': '\\\\N', 'characters': '[\"Blacksmith\"]'}, {'index': 15, 'tconst': 'tt0000005', 'ordering': 2, 'nconst': 'nm0653042', 'category': 'actor', 'job': '\\\\N', 'characters': '[\"Assistant\"]'}, {'index': 16, 'tconst': 'tt0000005', 'ordering': 3, 'nconst': 'nm0249379', 'category': 'producer', 'job': 'producer', 'characters': '\\\\N'}, {'index': 17, 'tconst': 'tt0000007', 'ordering': 1, 'nconst': 'nm0179163', 'category': 'actor', 'job': '\\\\N', 'characters': '\\\\N'}, {'index': 18, 'tconst': 'tt0000007', 'ordering': 2, 'nconst': 'nm0183947', 'category': 'actor', 'job': '\\\\N', 'characters': '\\\\N'}, {'index': 19, 'tconst': 'tt0000007', 'ordering': 3, 'nconst': 'nm0005690', 'category': 'director', 'job': '\\\\N', 'characters': '\\\\N'}, {'index': 20, 'tconst': 'tt0000007', 'ordering': 4, 'nconst': 'nm0374658', 'category': 'director', 'job': '\\\\N', 'characters': '\\\\N'}, {'index': 21, 'tconst': 'tt0000007', 'ordering': 5, 'nconst': 'nm0005690', 'category': 'producer', 'job': 'producer', 'characters': '\\\\N'}, {'index': 22, 'tconst': 'tt0000007', 'ordering': 6, 'nconst': 'nm0249379', 'category': 'producer', 'job': 'producer', 'characters': '\\\\N'}, {'index': 23, 'tconst': 'tt0000007', 'ordering': 7, 'nconst': 'nm0374658', 'category': 'cinematographer', 'job': '\\\\N', 'characters': '\\\\N'}, {'index': 24, 'tconst': 'tt0000008', 'ordering': 1, 'nconst': 'nm0653028', 'category': 'actor', 'job': '\\\\N', 'characters': '[\"Sneezing Man\"]'}, {'index': 25, 'tconst': 'tt0000008', 'ordering': 2, 'nconst': 'nm0005690', 'category': 'director', 'job': '\\\\N', 'characters': '\\\\N'}, {'index': 26, 'tconst': 'tt0000008', 'ordering': 3, 'nconst': 'nm0005690', 'category': 'producer', 'job': 'producer', 'characters': '\\\\N'}, {'index': 27, 'tconst': 'tt0000008', 'ordering': 4, 'nconst': 'nm0374658', 'category': 'cinematographer', 'job': '\\\\N', 'characters': '\\\\N'}, {'index': 28, 'tconst': 'tt0000009', 'ordering': 1, 'nconst': 'nm0063086', 'category': 'actress', 'job': '\\\\N', 'characters': '[\"Miss Geraldine Holbrook (Miss Jerry)\"]'}, {'index': 29, 'tconst': 'tt0000009', 'ordering': 2, 'nconst': 'nm0183823', 'category': 'actor', 'job': '\\\\N', 'characters': '[\"Mr. Hamilton\"]'}, {'index': 30, 'tconst': 'tt0000009', 'ordering': 3, 'nconst': 'nm1309758', 'category': 'actor', 'job': '\\\\N', 'characters': '[\"Chauncey Depew - the Director of the New York Central Railroad\"]'}, {'index': 31, 'tconst': 'tt0000009', 'ordering': 4, 'nconst': 'nm0085156', 'category': 'director', 'job': '\\\\N', 'characters': '\\\\N'}, {'index': 32, 'tconst': 'tt0000009', 'ordering': 5, 'nconst': 'nm0085156', 'category': 'writer', 'job': '\\\\N', 'characters': '\\\\N'}, {'index': 33, 'tconst': 'tt0000009', 'ordering': 6, 'nconst': 'nm0085156', 'category': 'producer', 'job': 'producer', 'characters': '\\\\N'}, {'index': 34, 'tconst': 'tt0000009', 'ordering': 7, 'nconst': 'nm0085156', 'category': 'cinematographer', 'job': '\\\\N', 'characters': '\\\\N'}, {'index': 35, 'tconst': 'tt0000010', 'ordering': 1, 'nconst': 'nm0525910', 'category': 'director', 'job': '\\\\N', 'characters': '\\\\N'}, {'index': 36, 'tconst': 'tt0000010', 'ordering': 2, 'nconst': 'nm0525910', 'category': 'producer', 'job': 'producer', 'characters': '\\\\N'}, {'index': 37, 'tconst': 'tt0000010', 'ordering': 3, 'nconst': 'nm0525910', 'category': 'cinematographer', 'job': '\\\\N', 'characters': '\\\\N'}, {'index': 38, 'tconst': 'tt0000011', 'ordering': 1, 'nconst': 'nm3692297', 'category': 'actor', 'job': '\\\\N', 'characters': '[\"Acrobats\"]'}, {'index': 39, 'tconst': 'tt0000011', 'ordering': 2, 'nconst': 'nm0804434', 'category': 'director', 'job': '\\\\N', 'characters': '\\\\N'}, {'index': 40, 'tconst': 'tt0000011', 'ordering': 3, 'nconst': 'nm0804434', 'category': 'producer', 'job': 'producer', 'characters': '\\\\N'}, {'index': 41, 'tconst': 'tt0000011', 'ordering': 4, 'nconst': 'nm0804434', 'category': 'cinematographer', 'job': '\\\\N', 'characters': '\\\\N'}, {'index': 42, 'tconst': 'tt0000012', 'ordering': 1, 'nconst': 'nm2880396', 'category': 'self', 'job': '\\\\N', 'characters': '[\"Self\"]'}, {'index': 43, 'tconst': 'tt0000012', 'ordering': 2, 'nconst': 'nm9735580', 'category': 'self', 'job': '\\\\N', 'characters': '[\"Self\"]'}, {'index': 44, 'tconst': 'tt0000012', 'ordering': 3, 'nconst': 'nm0525900', 'category': 'self', 'job': '\\\\N', 'characters': '[\"Self\"]'}, {'index': 45, 'tconst': 'tt0000012', 'ordering': 4, 'nconst': 'nm9735581', 'category': 'self', 'job': '\\\\N', 'characters': '[\"Self\"]'}, {'index': 46, 'tconst': 'tt0000012', 'ordering': 5, 'nconst': 'nm9735579', 'category': 'self', 'job': '\\\\N', 'characters': '[\"Self\"]'}, {'index': 47, 'tconst': 'tt0000012', 'ordering': 6, 'nconst': 'nm9653419', 'category': 'self', 'job': '\\\\N', 'characters': '[\"Self\"]'}, {'index': 48, 'tconst': 'tt0000012', 'ordering': 7, 'nconst': 'nm0525908', 'category': 'director', 'job': '\\\\N', 'characters': '\\\\N'}, {'index': 49, 'tconst': 'tt0000012', 'ordering': 8, 'nconst': 'nm0525910', 'category': 'director', 'job': '\\\\N', 'characters': '\\\\N'} ... 49999900 parameters truncated ... {'index': 49999950, 'tconst': 'tt2453080', 'ordering': 5, 'nconst': 'nm0080205', 'category': 'actor', 'job': '\\\\N', 'characters': '[\"CJ\"]'}, {'index': 49999951, 'tconst': 'tt2453080', 'ordering': 6, 'nconst': 'nm1463550', 'category': 'actor', 'job': '\\\\N', 'characters': '[\"Nandu\"]'}, {'index': 49999952, 'tconst': 'tt2453080', 'ordering': 7, 'nconst': 'nm0348481', 'category': 'actress', 'job': '\\\\N', 'characters': '[\"Nandini\"]'}, {'index': 49999953, 'tconst': 'tt2453080', 'ordering': 8, 'nconst': 'nm1348390', 'category': 'actress', 'job': '\\\\N', 'characters': '[\"Jassi\\'s Mother\"]'}, {'index': 49999954, 'tconst': 'tt2453080', 'ordering': 9, 'nconst': 'nm1585698', 'category': 'actress', 'job': '\\\\N', 'characters': '[\"Mallika Seth\"]'}, {'index': 49999955, 'tconst': 'tt2453080', 'ordering': 10, 'nconst': 'nm1213248', 'category': 'actor', 'job': '\\\\N', 'characters': '[\"Madi\"]'}, {'index': 49999956, 'tconst': 'tt2453080', 'ordering': 11, 'nconst': 'nm1637844', 'category': 'director', 'job': '\\\\N', 'characters': '\\\\N'}, {'index': 49999957, 'tconst': 'tt2453080', 'ordering': 12, 'nconst': 'nm1476919', 'category': 'director', 'job': '\\\\N', 'characters': '\\\\N'}, {'index': 49999958, 'tconst': 'tt2453080', 'ordering': 13, 'nconst': 'nm14090788', 'category': 'director', 'job': 'creative director', 'characters': '\\\\N'}, {'index': 49999959, 'tconst': 'tt2453080', 'ordering': 14, 'nconst': 'nm14090788', 'category': 'writer', 'job': 'additional dialogue', 'characters': '\\\\N'}, {'index': 49999960, 'tconst': 'tt2453080', 'ordering': 15, 'nconst': 'nm1402184', 'category': 'writer', 'job': '\\\\N', 'characters': '\\\\N'}, {'index': 49999961, 'tconst': 'tt2453080', 'ordering': 16, 'nconst': 'nm4273214', 'category': 'editor', 'job': '\\\\N', 'characters': '\\\\N'}, {'index': 49999962, 'tconst': 'tt2453082', 'ordering': 1, 'nconst': 'nm9108676', 'category': 'actor', 'job': '\\\\N', 'characters': '[\"Raghav\"]'}, {'index': 49999963, 'tconst': 'tt2453082', 'ordering': 2, 'nconst': 'nm1267095', 'category': 'actor', 'job': '\\\\N', 'characters': '[\"Purab Mehra\"]'}, {'index': 49999964, 'tconst': 'tt2453082', 'ordering': 3, 'nconst': 'nm0013157', 'category': 'actor', 'job': '\\\\N', 'characters': '[\"Armaan Suri\"]'}, {'index': 49999965, 'tconst': 'tt2453082', 'ordering': 4, 'nconst': 'nm1747318', 'category': 'actor', 'job': '\\\\N', 'characters': '[\"Detective\"]'}, {'index': 49999966, 'tconst': 'tt2453082', 'ordering': 5, 'nconst': 'nm0080205', 'category': 'actor', 'job': '\\\\N', 'characters': '[\"CJ\"]'}, {'index': 49999967, 'tconst': 'tt2453082', 'ordering': 6, 'nconst': 'nm1463550', 'category': 'actor', 'job': '\\\\N', 'characters': '[\"Nandu\"]'}, {'index': 49999968, 'tconst': 'tt2453082', 'ordering': 7, 'nconst': 'nm0348481', 'category': 'actress', 'job': '\\\\N', 'characters': '[\"Nandini\"]'}, {'index': 49999969, 'tconst': 'tt2453082', 'ordering': 8, 'nconst': 'nm1348390', 'category': 'actress', 'job': '\\\\N', 'characters': '[\"Jassi\\'s Mother\"]'}, {'index': 49999970, 'tconst': 'tt2453082', 'ordering': 9, 'nconst': 'nm1585698', 'category': 'actress', 'job': '\\\\N', 'characters': '[\"Mallika Seth\"]'}, {'index': 49999971, 'tconst': 'tt2453082', 'ordering': 10, 'nconst': 'nm1213248', 'category': 'actor', 'job': '\\\\N', 'characters': '[\"Madi\"]'}, {'index': 49999972, 'tconst': 'tt2453082', 'ordering': 11, 'nconst': 'nm1637844', 'category': 'director', 'job': '\\\\N', 'characters': '\\\\N'}, {'index': 49999973, 'tconst': 'tt2453082', 'ordering': 12, 'nconst': 'nm1476919', 'category': 'director', 'job': '\\\\N', 'characters': '\\\\N'}, {'index': 49999974, 'tconst': 'tt2453082', 'ordering': 13, 'nconst': 'nm14090788', 'category': 'director', 'job': 'creative director', 'characters': '\\\\N'}, {'index': 49999975, 'tconst': 'tt2453082', 'ordering': 14, 'nconst': 'nm14090788', 'category': 'writer', 'job': 'additional dialogue', 'characters': '\\\\N'}, {'index': 49999976, 'tconst': 'tt2453082', 'ordering': 15, 'nconst': 'nm1402184', 'category': 'writer', 'job': '\\\\N', 'characters': '\\\\N'}, {'index': 49999977, 'tconst': 'tt2453082', 'ordering': 16, 'nconst': 'nm4273214', 'category': 'editor', 'job': '\\\\N', 'characters': '\\\\N'}, {'index': 49999978, 'tconst': 'tt24530820', 'ordering': 1, 'nconst': 'nm12770331', 'category': 'actor', 'job': '\\\\N', 'characters': '[\"The DKC\"]'}, {'index': 49999979, 'tconst': 'tt24530820', 'ordering': 2, 'nconst': 'nm0199868', 'category': 'actor', 'job': '\\\\N', 'characters': '[\"Christopher Daniels\"]'}, {'index': 49999980, 'tconst': 'tt24530820', 'ordering': 3, 'nconst': 'nm8581245', 'category': 'actor', 'job': '\\\\N', 'characters': '[\"David Finlay\"]'}, {'index': 49999981, 'tconst': 'tt24530820', 'ordering': 4, 'nconst': 'nm3845017', 'category': 'actor', 'job': '\\\\N', 'characters': '[\"Bobby Fish\"]'}, {'index': 49999982, 'tconst': 'tt24530820', 'ordering': 5, 'nconst': 'nm8278334', 'category': 'actor', 'job': '\\\\N', 'characters': '[\"Royce Isaacs\"]'}, {'index': 49999983, 'tconst': 'tt24530820', 'ordering': 6, 'nconst': 'nm8581243', 'category': 'actor', 'job': '\\\\N', 'characters': '[\"Hikuleo\"]'}, {'index': 49999984, 'tconst': 'tt24530820', 'ordering': 7, 'nconst': 'nm2110050', 'category': 'actor', 'job': '\\\\N', 'characters': '[\"Alex Koslov\"]'}, {'index': 49999985, 'tconst': 'tt24530820', 'ordering': 8, 'nconst': 'nm1225473', 'category': 'actor', 'job': '\\\\N', 'characters': '[\"Kenny King\"]'}, {'index': 49999986, 'tconst': 'tt24530820', 'ordering': 9, 'nconst': 'nm7093779', 'category': 'actor', 'job': '\\\\N', 'characters': '[\"Tama Tonga\"]'}, {'index': 49999987, 'tconst': 'tt24530820', 'ordering': 10, 'nconst': 'nm8348439', 'category': 'actor', 'job': '\\\\N', 'characters': '[\"Jorel Nelson\"]'}, {'index': 49999988, 'tconst': 'tt2453084', 'ordering': 1, 'nconst': 'nm9108676', 'category': 'actor', 'job': '\\\\N', 'characters': '[\"Raghav\"]'}, {'index': 49999989, 'tconst': 'tt2453084', 'ordering': 2, 'nconst': 'nm1267095', 'category': 'actor', 'job': '\\\\N', 'characters': '[\"Purab Mehra\"]'}, {'index': 49999990, 'tconst': 'tt2453084', 'ordering': 3, 'nconst': 'nm0013157', 'category': 'actor', 'job': '\\\\N', 'characters': '[\"Armaan Suri\"]'}, {'index': 49999991, 'tconst': 'tt2453084', 'ordering': 4, 'nconst': 'nm1747318', 'category': 'actor', 'job': '\\\\N', 'characters': '[\"Detective\"]'}, {'index': 49999992, 'tconst': 'tt2453084', 'ordering': 5, 'nconst': 'nm0080205', 'category': 'actor', 'job': '\\\\N', 'characters': '[\"CJ\"]'}, {'index': 49999993, 'tconst': 'tt2453084', 'ordering': 6, 'nconst': 'nm1463550', 'category': 'actor', 'job': '\\\\N', 'characters': '[\"Nandu\"]'}, {'index': 49999994, 'tconst': 'tt2453084', 'ordering': 7, 'nconst': 'nm0348481', 'category': 'actress', 'job': '\\\\N', 'characters': '[\"Nandini\"]'}, {'index': 49999995, 'tconst': 'tt2453084', 'ordering': 8, 'nconst': 'nm1348390', 'category': 'actress', 'job': '\\\\N', 'characters': '[\"Jassi\\'s Mother\"]'}, {'index': 49999996, 'tconst': 'tt2453084', 'ordering': 9, 'nconst': 'nm1585698', 'category': 'actress', 'job': '\\\\N', 'characters': '[\"Mallika Seth\"]'}, {'index': 49999997, 'tconst': 'tt2453084', 'ordering': 10, 'nconst': 'nm1213248', 'category': 'actor', 'job': '\\\\N', 'characters': '[\"Madi\"]'}, {'index': 49999998, 'tconst': 'tt2453084', 'ordering': 11, 'nconst': 'nm1637844', 'category': 'director', 'job': '\\\\N', 'characters': '\\\\N'}, {'index': 49999999, 'tconst': 'tt2453084', 'ordering': 12, 'nconst': 'nm1476919', 'category': 'director', 'job': '\\\\N', 'characters': '\\\\N'}]]"
     ]
    }
   ],
   "source": [
    "insights.iloc[:50000000,:].to_sql(\"title_principals\", if_exists=\"replace\", con=engine)\n",
    "\n",
    "\n"
   ]
  },
  {
   "cell_type": "code",
   "execution_count": null,
   "id": "9ae63fb9",
   "metadata": {},
   "outputs": [],
   "source": [
    "insights.iloc[50000000,:]to_sql(\"title_principals\", if_exists=\"append\", con=engine)"
   ]
  },
  {
   "cell_type": "code",
   "execution_count": 46,
   "id": "df41a3d8",
   "metadata": {},
   "outputs": [
    {
     "data": {
      "text/html": [
       "<div>\n",
       "<style scoped>\n",
       "    .dataframe tbody tr th:only-of-type {\n",
       "        vertical-align: middle;\n",
       "    }\n",
       "\n",
       "    .dataframe tbody tr th {\n",
       "        vertical-align: top;\n",
       "    }\n",
       "\n",
       "    .dataframe thead th {\n",
       "        text-align: right;\n",
       "    }\n",
       "</style>\n",
       "<table border=\"1\" class=\"dataframe\">\n",
       "  <thead>\n",
       "    <tr style=\"text-align: right;\">\n",
       "      <th></th>\n",
       "      <th>tconst</th>\n",
       "      <th>ordering</th>\n",
       "      <th>nconst</th>\n",
       "      <th>category</th>\n",
       "      <th>job</th>\n",
       "      <th>characters</th>\n",
       "    </tr>\n",
       "  </thead>\n",
       "  <tbody>\n",
       "    <tr>\n",
       "      <th>0</th>\n",
       "      <td>tt0000001</td>\n",
       "      <td>1</td>\n",
       "      <td>nm1588970</td>\n",
       "      <td>self</td>\n",
       "      <td>\\N</td>\n",
       "      <td>[\"Self\"]</td>\n",
       "    </tr>\n",
       "    <tr>\n",
       "      <th>1</th>\n",
       "      <td>tt0000001</td>\n",
       "      <td>2</td>\n",
       "      <td>nm0005690</td>\n",
       "      <td>director</td>\n",
       "      <td>\\N</td>\n",
       "      <td>\\N</td>\n",
       "    </tr>\n",
       "    <tr>\n",
       "      <th>2</th>\n",
       "      <td>tt0000001</td>\n",
       "      <td>3</td>\n",
       "      <td>nm0005690</td>\n",
       "      <td>producer</td>\n",
       "      <td>producer</td>\n",
       "      <td>\\N</td>\n",
       "    </tr>\n",
       "    <tr>\n",
       "      <th>3</th>\n",
       "      <td>tt0000001</td>\n",
       "      <td>4</td>\n",
       "      <td>nm0374658</td>\n",
       "      <td>cinematographer</td>\n",
       "      <td>director of photography</td>\n",
       "      <td>\\N</td>\n",
       "    </tr>\n",
       "    <tr>\n",
       "      <th>4</th>\n",
       "      <td>tt0000002</td>\n",
       "      <td>1</td>\n",
       "      <td>nm0721526</td>\n",
       "      <td>director</td>\n",
       "      <td>\\N</td>\n",
       "      <td>\\N</td>\n",
       "    </tr>\n",
       "    <tr>\n",
       "      <th>...</th>\n",
       "      <td>...</td>\n",
       "      <td>...</td>\n",
       "      <td>...</td>\n",
       "      <td>...</td>\n",
       "      <td>...</td>\n",
       "      <td>...</td>\n",
       "    </tr>\n",
       "    <tr>\n",
       "      <th>93759100</th>\n",
       "      <td>tt9916880</td>\n",
       "      <td>17</td>\n",
       "      <td>nm0996406</td>\n",
       "      <td>director</td>\n",
       "      <td>principal director</td>\n",
       "      <td>\\N</td>\n",
       "    </tr>\n",
       "    <tr>\n",
       "      <th>93759101</th>\n",
       "      <td>tt9916880</td>\n",
       "      <td>18</td>\n",
       "      <td>nm1482639</td>\n",
       "      <td>writer</td>\n",
       "      <td>\\N</td>\n",
       "      <td>\\N</td>\n",
       "    </tr>\n",
       "    <tr>\n",
       "      <th>93759102</th>\n",
       "      <td>tt9916880</td>\n",
       "      <td>19</td>\n",
       "      <td>nm2586970</td>\n",
       "      <td>writer</td>\n",
       "      <td>books</td>\n",
       "      <td>\\N</td>\n",
       "    </tr>\n",
       "    <tr>\n",
       "      <th>93759103</th>\n",
       "      <td>tt9916880</td>\n",
       "      <td>20</td>\n",
       "      <td>nm1594058</td>\n",
       "      <td>producer</td>\n",
       "      <td>producer</td>\n",
       "      <td>\\N</td>\n",
       "    </tr>\n",
       "    <tr>\n",
       "      <th>93759104</th>\n",
       "      <td>tt9916880</td>\n",
       "      <td>21</td>\n",
       "      <td>nm1482639</td>\n",
       "      <td>producer</td>\n",
       "      <td>producer</td>\n",
       "      <td>\\N</td>\n",
       "    </tr>\n",
       "  </tbody>\n",
       "</table>\n",
       "<p>93759105 rows × 6 columns</p>\n",
       "</div>"
      ],
      "text/plain": [
       "             tconst  ordering     nconst         category  \\\n",
       "0         tt0000001         1  nm1588970             self   \n",
       "1         tt0000001         2  nm0005690         director   \n",
       "2         tt0000001         3  nm0005690         producer   \n",
       "3         tt0000001         4  nm0374658  cinematographer   \n",
       "4         tt0000002         1  nm0721526         director   \n",
       "...             ...       ...        ...              ...   \n",
       "93759100  tt9916880        17  nm0996406         director   \n",
       "93759101  tt9916880        18  nm1482639           writer   \n",
       "93759102  tt9916880        19  nm2586970           writer   \n",
       "93759103  tt9916880        20  nm1594058         producer   \n",
       "93759104  tt9916880        21  nm1482639         producer   \n",
       "\n",
       "                              job characters  \n",
       "0                              \\N   [\"Self\"]  \n",
       "1                              \\N         \\N  \n",
       "2                        producer         \\N  \n",
       "3         director of photography         \\N  \n",
       "4                              \\N         \\N  \n",
       "...                           ...        ...  \n",
       "93759100       principal director         \\N  \n",
       "93759101                       \\N         \\N  \n",
       "93759102                    books         \\N  \n",
       "93759103                 producer         \\N  \n",
       "93759104                 producer         \\N  \n",
       "\n",
       "[93759105 rows x 6 columns]"
      ]
     },
     "execution_count": 46,
     "metadata": {},
     "output_type": "execute_result"
    }
   ],
   "source": [
    "insights"
   ]
  },
  {
   "cell_type": "code",
   "execution_count": null,
   "id": "c61ab807",
   "metadata": {},
   "outputs": [
    {
     "ename": "NotSupportedError",
     "evalue": "Authentication plugin 'caching_sha2_password' is not supported",
     "output_type": "error",
     "traceback": [
      "\u001b[31m---------------------------------------------------------------------------\u001b[39m",
      "\u001b[31mNotSupportedError\u001b[39m                         Traceback (most recent call last)",
      "\u001b[36mCell\u001b[39m\u001b[36m \u001b[39m\u001b[32mIn[14]\u001b[39m\u001b[32m, line 4\u001b[39m\n\u001b[32m      1\u001b[39m \u001b[38;5;28;01mimport\u001b[39;00m\u001b[38;5;250m \u001b[39m\u001b[34;01mmysql\u001b[39;00m\u001b[34;01m.\u001b[39;00m\u001b[34;01mconnector\u001b[39;00m\n\u001b[32m      3\u001b[39m \u001b[38;5;66;03m# Establish a connection to the MySQL database\u001b[39;00m\n\u001b[32m----> \u001b[39m\u001b[32m4\u001b[39m conn = \u001b[43mmysql\u001b[49m\u001b[43m.\u001b[49m\u001b[43mconnector\u001b[49m\u001b[43m.\u001b[49m\u001b[43mconnect\u001b[49m\u001b[43m(\u001b[49m\n\u001b[32m      5\u001b[39m \u001b[43m    \u001b[49m\u001b[43mhost\u001b[49m\u001b[43m=\u001b[49m\u001b[33;43m\"\u001b[39;49m\u001b[33;43mlocalhost\u001b[39;49m\u001b[33;43m\"\u001b[39;49m\u001b[43m,\u001b[49m\u001b[43m           \u001b[49m\u001b[38;5;66;43;03m# or your server IP\u001b[39;49;00m\n\u001b[32m      6\u001b[39m \u001b[43m    \u001b[49m\u001b[43muser\u001b[49m\u001b[43m=\u001b[49m\u001b[33;43m\"\u001b[39;49m\u001b[33;43myour_username\u001b[39;49m\u001b[33;43m\"\u001b[39;49m\u001b[43m,\u001b[49m\u001b[43m       \u001b[49m\u001b[38;5;66;43;03m# replace with your MySQL username\u001b[39;49;00m\n\u001b[32m      7\u001b[39m \u001b[43m    \u001b[49m\u001b[43mpassword\u001b[49m\u001b[43m=\u001b[49m\u001b[33;43m\"\u001b[39;49m\u001b[33;43mGeoRunz\u001b[39;49m\u001b[33;43m\"\u001b[39;49m\u001b[43m,\u001b[49m\u001b[43m   \u001b[49m\u001b[38;5;66;43;03m# replace with your MySQL password\u001b[39;49;00m\n\u001b[32m      8\u001b[39m \u001b[43m    \u001b[49m\u001b[43mdatabase\u001b[49m\u001b[43m=\u001b[49m\u001b[33;43m\"\u001b[39;49m\u001b[33;43mimdb_insights\u001b[39;49m\u001b[33;43m\"\u001b[39;49m\u001b[43m    \u001b[49m\u001b[38;5;66;43;03m# <-- this is your schema name\u001b[39;49;00m\n\u001b[32m      9\u001b[39m \u001b[43m)\u001b[49m\n\u001b[32m     11\u001b[39m \u001b[38;5;66;03m# Check if connection is successful\u001b[39;00m\n\u001b[32m     12\u001b[39m \u001b[38;5;28;01mif\u001b[39;00m conn.is_connected():\n",
      "\u001b[36mFile \u001b[39m\u001b[32mc:\\Users\\profe\\AppData\\Local\\Programs\\Python\\Python313\\Lib\\site-packages\\mysql\\connector\\__init__.py:179\u001b[39m, in \u001b[36mconnect\u001b[39m\u001b[34m(*args, **kwargs)\u001b[39m\n\u001b[32m    177\u001b[39m     \u001b[38;5;28;01mreturn\u001b[39;00m CMySQLConnection(*args, **kwargs)\n\u001b[32m    178\u001b[39m \u001b[38;5;28;01melse\u001b[39;00m:\n\u001b[32m--> \u001b[39m\u001b[32m179\u001b[39m     \u001b[38;5;28;01mreturn\u001b[39;00m \u001b[43mMySQLConnection\u001b[49m\u001b[43m(\u001b[49m\u001b[43m*\u001b[49m\u001b[43margs\u001b[49m\u001b[43m,\u001b[49m\u001b[43m \u001b[49m\u001b[43m*\u001b[49m\u001b[43m*\u001b[49m\u001b[43mkwargs\u001b[49m\u001b[43m)\u001b[49m\n",
      "\u001b[36mFile \u001b[39m\u001b[32mc:\\Users\\profe\\AppData\\Local\\Programs\\Python\\Python313\\Lib\\site-packages\\mysql\\connector\\connection.py:95\u001b[39m, in \u001b[36mMySQLConnection.__init__\u001b[39m\u001b[34m(self, *args, **kwargs)\u001b[39m\n\u001b[32m     92\u001b[39m \u001b[38;5;28mself\u001b[39m._pool_config_version = \u001b[38;5;28;01mNone\u001b[39;00m\n\u001b[32m     94\u001b[39m \u001b[38;5;28;01mif\u001b[39;00m \u001b[38;5;28mlen\u001b[39m(kwargs) > \u001b[32m0\u001b[39m:\n\u001b[32m---> \u001b[39m\u001b[32m95\u001b[39m     \u001b[38;5;28;43mself\u001b[39;49m\u001b[43m.\u001b[49m\u001b[43mconnect\u001b[49m\u001b[43m(\u001b[49m\u001b[43m*\u001b[49m\u001b[43m*\u001b[49m\u001b[43mkwargs\u001b[49m\u001b[43m)\u001b[49m\n",
      "\u001b[36mFile \u001b[39m\u001b[32mc:\\Users\\profe\\AppData\\Local\\Programs\\Python\\Python313\\Lib\\site-packages\\mysql\\connector\\abstracts.py:716\u001b[39m, in \u001b[36mMySQLConnectionAbstract.connect\u001b[39m\u001b[34m(self, **kwargs)\u001b[39m\n\u001b[32m    713\u001b[39m     \u001b[38;5;28mself\u001b[39m.config(**kwargs)\n\u001b[32m    715\u001b[39m \u001b[38;5;28mself\u001b[39m.disconnect()\n\u001b[32m--> \u001b[39m\u001b[32m716\u001b[39m \u001b[38;5;28;43mself\u001b[39;49m\u001b[43m.\u001b[49m\u001b[43m_open_connection\u001b[49m\u001b[43m(\u001b[49m\u001b[43m)\u001b[49m\n\u001b[32m    717\u001b[39m \u001b[38;5;28mself\u001b[39m._post_connection()\n",
      "\u001b[36mFile \u001b[39m\u001b[32mc:\\Users\\profe\\AppData\\Local\\Programs\\Python\\Python313\\Lib\\site-packages\\mysql\\connector\\connection.py:208\u001b[39m, in \u001b[36mMySQLConnection._open_connection\u001b[39m\u001b[34m(self)\u001b[39m\n\u001b[32m    206\u001b[39m \u001b[38;5;28mself\u001b[39m._socket.open_connection()\n\u001b[32m    207\u001b[39m \u001b[38;5;28mself\u001b[39m._do_handshake()\n\u001b[32m--> \u001b[39m\u001b[32m208\u001b[39m \u001b[38;5;28;43mself\u001b[39;49m\u001b[43m.\u001b[49m\u001b[43m_do_auth\u001b[49m\u001b[43m(\u001b[49m\u001b[38;5;28;43mself\u001b[39;49m\u001b[43m.\u001b[49m\u001b[43m_user\u001b[49m\u001b[43m,\u001b[49m\u001b[43m \u001b[49m\u001b[38;5;28;43mself\u001b[39;49m\u001b[43m.\u001b[49m\u001b[43m_password\u001b[49m\u001b[43m,\u001b[49m\n\u001b[32m    209\u001b[39m \u001b[43m              \u001b[49m\u001b[38;5;28;43mself\u001b[39;49m\u001b[43m.\u001b[49m\u001b[43m_database\u001b[49m\u001b[43m,\u001b[49m\u001b[43m \u001b[49m\u001b[38;5;28;43mself\u001b[39;49m\u001b[43m.\u001b[49m\u001b[43m_client_flags\u001b[49m\u001b[43m,\u001b[49m\u001b[43m \u001b[49m\u001b[38;5;28;43mself\u001b[39;49m\u001b[43m.\u001b[49m\u001b[43m_charset_id\u001b[49m\u001b[43m,\u001b[49m\n\u001b[32m    210\u001b[39m \u001b[43m              \u001b[49m\u001b[38;5;28;43mself\u001b[39;49m\u001b[43m.\u001b[49m\u001b[43m_ssl\u001b[49m\u001b[43m)\u001b[49m\n\u001b[32m    211\u001b[39m \u001b[38;5;28mself\u001b[39m.set_converter_class(\u001b[38;5;28mself\u001b[39m._converter_class)\n\u001b[32m    212\u001b[39m \u001b[38;5;28;01mif\u001b[39;00m \u001b[38;5;28mself\u001b[39m._client_flags & ClientFlag.COMPRESS:\n",
      "\u001b[36mFile \u001b[39m\u001b[32mc:\\Users\\profe\\AppData\\Local\\Programs\\Python\\Python313\\Lib\\site-packages\\mysql\\connector\\connection.py:137\u001b[39m, in \u001b[36mMySQLConnection._do_auth\u001b[39m\u001b[34m(self, username, password, database, client_flags, charset, ssl_options)\u001b[39m\n\u001b[32m    134\u001b[39m     \u001b[38;5;28mself\u001b[39m._socket.switch_to_ssl(**ssl_options)\n\u001b[32m    135\u001b[39m     \u001b[38;5;28mself\u001b[39m._ssl_active = \u001b[38;5;28;01mTrue\u001b[39;00m\n\u001b[32m--> \u001b[39m\u001b[32m137\u001b[39m packet = \u001b[38;5;28;43mself\u001b[39;49m\u001b[43m.\u001b[49m\u001b[43m_protocol\u001b[49m\u001b[43m.\u001b[49m\u001b[43mmake_auth\u001b[49m\u001b[43m(\u001b[49m\n\u001b[32m    138\u001b[39m \u001b[43m    \u001b[49m\u001b[43mhandshake\u001b[49m\u001b[43m=\u001b[49m\u001b[38;5;28;43mself\u001b[39;49m\u001b[43m.\u001b[49m\u001b[43m_handshake\u001b[49m\u001b[43m,\u001b[49m\n\u001b[32m    139\u001b[39m \u001b[43m    \u001b[49m\u001b[43musername\u001b[49m\u001b[43m=\u001b[49m\u001b[43musername\u001b[49m\u001b[43m,\u001b[49m\u001b[43m \u001b[49m\u001b[43mpassword\u001b[49m\u001b[43m=\u001b[49m\u001b[43mpassword\u001b[49m\u001b[43m,\u001b[49m\u001b[43m \u001b[49m\u001b[43mdatabase\u001b[49m\u001b[43m=\u001b[49m\u001b[43mdatabase\u001b[49m\u001b[43m,\u001b[49m\n\u001b[32m    140\u001b[39m \u001b[43m    \u001b[49m\u001b[43mcharset\u001b[49m\u001b[43m=\u001b[49m\u001b[43mcharset\u001b[49m\u001b[43m,\u001b[49m\u001b[43m \u001b[49m\u001b[43mclient_flags\u001b[49m\u001b[43m=\u001b[49m\u001b[43mclient_flags\u001b[49m\u001b[43m,\u001b[49m\n\u001b[32m    141\u001b[39m \u001b[43m    \u001b[49m\u001b[43mssl_enabled\u001b[49m\u001b[43m=\u001b[49m\u001b[38;5;28;43mself\u001b[39;49m\u001b[43m.\u001b[49m\u001b[43m_ssl_active\u001b[49m\u001b[43m,\u001b[49m\n\u001b[32m    142\u001b[39m \u001b[43m    \u001b[49m\u001b[43mauth_plugin\u001b[49m\u001b[43m=\u001b[49m\u001b[38;5;28;43mself\u001b[39;49m\u001b[43m.\u001b[49m\u001b[43m_auth_plugin\u001b[49m\u001b[43m)\u001b[49m\n\u001b[32m    143\u001b[39m \u001b[38;5;28mself\u001b[39m._socket.send(packet)\n\u001b[32m    144\u001b[39m \u001b[38;5;28mself\u001b[39m._auth_switch_request(username, password)\n",
      "\u001b[36mFile \u001b[39m\u001b[32mc:\\Users\\profe\\AppData\\Local\\Programs\\Python\\Python313\\Lib\\site-packages\\mysql\\connector\\protocol.py:99\u001b[39m, in \u001b[36mMySQLProtocol.make_auth\u001b[39m\u001b[34m(self, handshake, username, password, database, charset, client_flags, max_allowed_packet, ssl_enabled, auth_plugin)\u001b[39m\n\u001b[32m     93\u001b[39m     username_bytes = username\n\u001b[32m     94\u001b[39m packet = struct.pack(\u001b[33m'\u001b[39m\u001b[33m<IIB\u001b[39m\u001b[38;5;132;01m{filler}\u001b[39;00m\u001b[38;5;132;01m{usrlen}\u001b[39;00m\u001b[33msx\u001b[39m\u001b[33m'\u001b[39m.format(\n\u001b[32m     95\u001b[39m     filler=\u001b[33m'\u001b[39m\u001b[33mx\u001b[39m\u001b[33m'\u001b[39m * \u001b[32m23\u001b[39m, usrlen=\u001b[38;5;28mlen\u001b[39m(username_bytes)),\n\u001b[32m     96\u001b[39m                      client_flags, max_allowed_packet, charset,\n\u001b[32m     97\u001b[39m                      username_bytes)\n\u001b[32m---> \u001b[39m\u001b[32m99\u001b[39m packet += \u001b[38;5;28;43mself\u001b[39;49m\u001b[43m.\u001b[49m\u001b[43m_auth_response\u001b[49m\u001b[43m(\u001b[49m\u001b[43mclient_flags\u001b[49m\u001b[43m,\u001b[49m\u001b[43m \u001b[49m\u001b[43musername\u001b[49m\u001b[43m,\u001b[49m\u001b[43m \u001b[49m\u001b[43mpassword\u001b[49m\u001b[43m,\u001b[49m\n\u001b[32m    100\u001b[39m \u001b[43m                              \u001b[49m\u001b[43mdatabase\u001b[49m\u001b[43m,\u001b[49m\n\u001b[32m    101\u001b[39m \u001b[43m                              \u001b[49m\u001b[43mauth_plugin\u001b[49m\u001b[43m,\u001b[49m\n\u001b[32m    102\u001b[39m \u001b[43m                              \u001b[49m\u001b[43mauth_data\u001b[49m\u001b[43m,\u001b[49m\u001b[43m \u001b[49m\u001b[43mssl_enabled\u001b[49m\u001b[43m)\u001b[49m\n\u001b[32m    104\u001b[39m packet += \u001b[38;5;28mself\u001b[39m._connect_with_db(client_flags, database)\n\u001b[32m    106\u001b[39m \u001b[38;5;28;01mif\u001b[39;00m client_flags & ClientFlag.PLUGIN_AUTH:\n",
      "\u001b[36mFile \u001b[39m\u001b[32mc:\\Users\\profe\\AppData\\Local\\Programs\\Python\\Python313\\Lib\\site-packages\\mysql\\connector\\protocol.py:58\u001b[39m, in \u001b[36mMySQLProtocol._auth_response\u001b[39m\u001b[34m(self, client_flags, username, password, database, auth_plugin, auth_data, ssl_enabled)\u001b[39m\n\u001b[32m     55\u001b[39m     \u001b[38;5;28;01mreturn\u001b[39;00m \u001b[33mb\u001b[39m\u001b[33m'\u001b[39m\u001b[38;5;130;01m\\x00\u001b[39;00m\u001b[33m'\u001b[39m\n\u001b[32m     57\u001b[39m \u001b[38;5;28;01mtry\u001b[39;00m:\n\u001b[32m---> \u001b[39m\u001b[32m58\u001b[39m     auth = \u001b[43mget_auth_plugin\u001b[49m\u001b[43m(\u001b[49m\u001b[43mauth_plugin\u001b[49m\u001b[43m)\u001b[49m(\n\u001b[32m     59\u001b[39m         auth_data,\n\u001b[32m     60\u001b[39m         username=username, password=password, database=database,\n\u001b[32m     61\u001b[39m         ssl_enabled=ssl_enabled)\n\u001b[32m     62\u001b[39m     plugin_auth_response = auth.auth_response()\n\u001b[32m     63\u001b[39m \u001b[38;5;28;01mexcept\u001b[39;00m (\u001b[38;5;167;01mTypeError\u001b[39;00m, errors.InterfaceError) \u001b[38;5;28;01mas\u001b[39;00m exc:\n",
      "\u001b[36mFile \u001b[39m\u001b[32mc:\\Users\\profe\\AppData\\Local\\Programs\\Python\\Python313\\Lib\\site-packages\\mysql\\connector\\authentication.py:190\u001b[39m, in \u001b[36mget_auth_plugin\u001b[39m\u001b[34m(plugin_name)\u001b[39m\n\u001b[32m    187\u001b[39m     \u001b[38;5;28;01mif\u001b[39;00m authclass.plugin_name == plugin_name:\n\u001b[32m    188\u001b[39m         \u001b[38;5;28;01mreturn\u001b[39;00m authclass\n\u001b[32m--> \u001b[39m\u001b[32m190\u001b[39m \u001b[38;5;28;01mraise\u001b[39;00m errors.NotSupportedError(\n\u001b[32m    191\u001b[39m     \u001b[33m\"\u001b[39m\u001b[33mAuthentication plugin \u001b[39m\u001b[33m'\u001b[39m\u001b[38;5;132;01m{0}\u001b[39;00m\u001b[33m'\u001b[39m\u001b[33m is not supported\u001b[39m\u001b[33m\"\u001b[39m.format(plugin_name))\n",
      "\u001b[31mNotSupportedError\u001b[39m: Authentication plugin 'caching_sha2_password' is not supported"
     ]
    }
   ],
   "source": []
  },
  {
   "cell_type": "code",
   "execution_count": null,
   "id": "4a0f9c86",
   "metadata": {},
   "outputs": [
    {
     "ename": "NotSupportedError",
     "evalue": "Authentication plugin 'caching_sha2_password' is not supported",
     "output_type": "error",
     "traceback": [
      "\u001b[31m---------------------------------------------------------------------------\u001b[39m",
      "\u001b[31mNotSupportedError\u001b[39m                         Traceback (most recent call last)",
      "\u001b[36mCell\u001b[39m\u001b[36m \u001b[39m\u001b[32mIn[13]\u001b[39m\u001b[32m, line 4\u001b[39m\n\u001b[32m      1\u001b[39m \u001b[38;5;28;01mimport\u001b[39;00m\u001b[38;5;250m \u001b[39m\u001b[34;01mmysql\u001b[39;00m\u001b[34;01m.\u001b[39;00m\u001b[34;01mconnector\u001b[39;00m\n\u001b[32m      3\u001b[39m \u001b[38;5;66;03m# Establish the connection\u001b[39;00m\n\u001b[32m----> \u001b[39m\u001b[32m4\u001b[39m conn = \u001b[43mmysql\u001b[49m\u001b[43m.\u001b[49m\u001b[43mconnector\u001b[49m\u001b[43m.\u001b[49m\u001b[43mconnect\u001b[49m\u001b[43m(\u001b[49m\n\u001b[32m      5\u001b[39m \u001b[43m    \u001b[49m\u001b[43mhost\u001b[49m\u001b[43m=\u001b[49m\u001b[33;43m\"\u001b[39;49m\u001b[33;43mlocalhost\u001b[39;49m\u001b[33;43m\"\u001b[39;49m\u001b[43m,\u001b[49m\u001b[43m          \u001b[49m\u001b[38;5;66;43;03m# Change if using remote server\u001b[39;49;00m\n\u001b[32m      6\u001b[39m \u001b[43m    \u001b[49m\u001b[43muser\u001b[49m\u001b[43m=\u001b[49m\u001b[33;43m\"\u001b[39;49m\u001b[33;43myour_username\u001b[39;49m\u001b[33;43m\"\u001b[39;49m\u001b[43m,\u001b[49m\u001b[43m      \u001b[49m\u001b[38;5;66;43;03m# Your MySQL username\u001b[39;49;00m\n\u001b[32m      7\u001b[39m \u001b[43m    \u001b[49m\u001b[43mpassword\u001b[49m\u001b[43m=\u001b[49m\u001b[33;43m\"\u001b[39;49m\u001b[33;43mGeoRunz\u001b[39;49m\u001b[33;43m\"\u001b[39;49m\u001b[43m,\u001b[49m\u001b[43m  \u001b[49m\u001b[38;5;66;43;03m# Your MySQL password\u001b[39;49;00m\n\u001b[32m      8\u001b[39m \u001b[43m    \u001b[49m\u001b[43mdatabase\u001b[49m\u001b[43m=\u001b[49m\u001b[33;43m\"\u001b[39;49m\u001b[33;43mimdb_insights\u001b[39;49m\u001b[33;43m\"\u001b[39;49m\u001b[43m   \u001b[49m\u001b[38;5;66;43;03m# The database name\u001b[39;49;00m\n\u001b[32m      9\u001b[39m \u001b[43m)\u001b[49m\n\u001b[32m     11\u001b[39m \u001b[38;5;66;03m# Create a cursor object to execute queries\u001b[39;00m\n\u001b[32m     12\u001b[39m cursor = conn.cursor()\n",
      "\u001b[36mFile \u001b[39m\u001b[32mc:\\Users\\profe\\AppData\\Local\\Programs\\Python\\Python313\\Lib\\site-packages\\mysql\\connector\\__init__.py:179\u001b[39m, in \u001b[36mconnect\u001b[39m\u001b[34m(*args, **kwargs)\u001b[39m\n\u001b[32m    177\u001b[39m     \u001b[38;5;28;01mreturn\u001b[39;00m CMySQLConnection(*args, **kwargs)\n\u001b[32m    178\u001b[39m \u001b[38;5;28;01melse\u001b[39;00m:\n\u001b[32m--> \u001b[39m\u001b[32m179\u001b[39m     \u001b[38;5;28;01mreturn\u001b[39;00m \u001b[43mMySQLConnection\u001b[49m\u001b[43m(\u001b[49m\u001b[43m*\u001b[49m\u001b[43margs\u001b[49m\u001b[43m,\u001b[49m\u001b[43m \u001b[49m\u001b[43m*\u001b[49m\u001b[43m*\u001b[49m\u001b[43mkwargs\u001b[49m\u001b[43m)\u001b[49m\n",
      "\u001b[36mFile \u001b[39m\u001b[32mc:\\Users\\profe\\AppData\\Local\\Programs\\Python\\Python313\\Lib\\site-packages\\mysql\\connector\\connection.py:95\u001b[39m, in \u001b[36mMySQLConnection.__init__\u001b[39m\u001b[34m(self, *args, **kwargs)\u001b[39m\n\u001b[32m     92\u001b[39m \u001b[38;5;28mself\u001b[39m._pool_config_version = \u001b[38;5;28;01mNone\u001b[39;00m\n\u001b[32m     94\u001b[39m \u001b[38;5;28;01mif\u001b[39;00m \u001b[38;5;28mlen\u001b[39m(kwargs) > \u001b[32m0\u001b[39m:\n\u001b[32m---> \u001b[39m\u001b[32m95\u001b[39m     \u001b[38;5;28;43mself\u001b[39;49m\u001b[43m.\u001b[49m\u001b[43mconnect\u001b[49m\u001b[43m(\u001b[49m\u001b[43m*\u001b[49m\u001b[43m*\u001b[49m\u001b[43mkwargs\u001b[49m\u001b[43m)\u001b[49m\n",
      "\u001b[36mFile \u001b[39m\u001b[32mc:\\Users\\profe\\AppData\\Local\\Programs\\Python\\Python313\\Lib\\site-packages\\mysql\\connector\\abstracts.py:716\u001b[39m, in \u001b[36mMySQLConnectionAbstract.connect\u001b[39m\u001b[34m(self, **kwargs)\u001b[39m\n\u001b[32m    713\u001b[39m     \u001b[38;5;28mself\u001b[39m.config(**kwargs)\n\u001b[32m    715\u001b[39m \u001b[38;5;28mself\u001b[39m.disconnect()\n\u001b[32m--> \u001b[39m\u001b[32m716\u001b[39m \u001b[38;5;28;43mself\u001b[39;49m\u001b[43m.\u001b[49m\u001b[43m_open_connection\u001b[49m\u001b[43m(\u001b[49m\u001b[43m)\u001b[49m\n\u001b[32m    717\u001b[39m \u001b[38;5;28mself\u001b[39m._post_connection()\n",
      "\u001b[36mFile \u001b[39m\u001b[32mc:\\Users\\profe\\AppData\\Local\\Programs\\Python\\Python313\\Lib\\site-packages\\mysql\\connector\\connection.py:208\u001b[39m, in \u001b[36mMySQLConnection._open_connection\u001b[39m\u001b[34m(self)\u001b[39m\n\u001b[32m    206\u001b[39m \u001b[38;5;28mself\u001b[39m._socket.open_connection()\n\u001b[32m    207\u001b[39m \u001b[38;5;28mself\u001b[39m._do_handshake()\n\u001b[32m--> \u001b[39m\u001b[32m208\u001b[39m \u001b[38;5;28;43mself\u001b[39;49m\u001b[43m.\u001b[49m\u001b[43m_do_auth\u001b[49m\u001b[43m(\u001b[49m\u001b[38;5;28;43mself\u001b[39;49m\u001b[43m.\u001b[49m\u001b[43m_user\u001b[49m\u001b[43m,\u001b[49m\u001b[43m \u001b[49m\u001b[38;5;28;43mself\u001b[39;49m\u001b[43m.\u001b[49m\u001b[43m_password\u001b[49m\u001b[43m,\u001b[49m\n\u001b[32m    209\u001b[39m \u001b[43m              \u001b[49m\u001b[38;5;28;43mself\u001b[39;49m\u001b[43m.\u001b[49m\u001b[43m_database\u001b[49m\u001b[43m,\u001b[49m\u001b[43m \u001b[49m\u001b[38;5;28;43mself\u001b[39;49m\u001b[43m.\u001b[49m\u001b[43m_client_flags\u001b[49m\u001b[43m,\u001b[49m\u001b[43m \u001b[49m\u001b[38;5;28;43mself\u001b[39;49m\u001b[43m.\u001b[49m\u001b[43m_charset_id\u001b[49m\u001b[43m,\u001b[49m\n\u001b[32m    210\u001b[39m \u001b[43m              \u001b[49m\u001b[38;5;28;43mself\u001b[39;49m\u001b[43m.\u001b[49m\u001b[43m_ssl\u001b[49m\u001b[43m)\u001b[49m\n\u001b[32m    211\u001b[39m \u001b[38;5;28mself\u001b[39m.set_converter_class(\u001b[38;5;28mself\u001b[39m._converter_class)\n\u001b[32m    212\u001b[39m \u001b[38;5;28;01mif\u001b[39;00m \u001b[38;5;28mself\u001b[39m._client_flags & ClientFlag.COMPRESS:\n",
      "\u001b[36mFile \u001b[39m\u001b[32mc:\\Users\\profe\\AppData\\Local\\Programs\\Python\\Python313\\Lib\\site-packages\\mysql\\connector\\connection.py:137\u001b[39m, in \u001b[36mMySQLConnection._do_auth\u001b[39m\u001b[34m(self, username, password, database, client_flags, charset, ssl_options)\u001b[39m\n\u001b[32m    134\u001b[39m     \u001b[38;5;28mself\u001b[39m._socket.switch_to_ssl(**ssl_options)\n\u001b[32m    135\u001b[39m     \u001b[38;5;28mself\u001b[39m._ssl_active = \u001b[38;5;28;01mTrue\u001b[39;00m\n\u001b[32m--> \u001b[39m\u001b[32m137\u001b[39m packet = \u001b[38;5;28;43mself\u001b[39;49m\u001b[43m.\u001b[49m\u001b[43m_protocol\u001b[49m\u001b[43m.\u001b[49m\u001b[43mmake_auth\u001b[49m\u001b[43m(\u001b[49m\n\u001b[32m    138\u001b[39m \u001b[43m    \u001b[49m\u001b[43mhandshake\u001b[49m\u001b[43m=\u001b[49m\u001b[38;5;28;43mself\u001b[39;49m\u001b[43m.\u001b[49m\u001b[43m_handshake\u001b[49m\u001b[43m,\u001b[49m\n\u001b[32m    139\u001b[39m \u001b[43m    \u001b[49m\u001b[43musername\u001b[49m\u001b[43m=\u001b[49m\u001b[43musername\u001b[49m\u001b[43m,\u001b[49m\u001b[43m \u001b[49m\u001b[43mpassword\u001b[49m\u001b[43m=\u001b[49m\u001b[43mpassword\u001b[49m\u001b[43m,\u001b[49m\u001b[43m \u001b[49m\u001b[43mdatabase\u001b[49m\u001b[43m=\u001b[49m\u001b[43mdatabase\u001b[49m\u001b[43m,\u001b[49m\n\u001b[32m    140\u001b[39m \u001b[43m    \u001b[49m\u001b[43mcharset\u001b[49m\u001b[43m=\u001b[49m\u001b[43mcharset\u001b[49m\u001b[43m,\u001b[49m\u001b[43m \u001b[49m\u001b[43mclient_flags\u001b[49m\u001b[43m=\u001b[49m\u001b[43mclient_flags\u001b[49m\u001b[43m,\u001b[49m\n\u001b[32m    141\u001b[39m \u001b[43m    \u001b[49m\u001b[43mssl_enabled\u001b[49m\u001b[43m=\u001b[49m\u001b[38;5;28;43mself\u001b[39;49m\u001b[43m.\u001b[49m\u001b[43m_ssl_active\u001b[49m\u001b[43m,\u001b[49m\n\u001b[32m    142\u001b[39m \u001b[43m    \u001b[49m\u001b[43mauth_plugin\u001b[49m\u001b[43m=\u001b[49m\u001b[38;5;28;43mself\u001b[39;49m\u001b[43m.\u001b[49m\u001b[43m_auth_plugin\u001b[49m\u001b[43m)\u001b[49m\n\u001b[32m    143\u001b[39m \u001b[38;5;28mself\u001b[39m._socket.send(packet)\n\u001b[32m    144\u001b[39m \u001b[38;5;28mself\u001b[39m._auth_switch_request(username, password)\n",
      "\u001b[36mFile \u001b[39m\u001b[32mc:\\Users\\profe\\AppData\\Local\\Programs\\Python\\Python313\\Lib\\site-packages\\mysql\\connector\\protocol.py:99\u001b[39m, in \u001b[36mMySQLProtocol.make_auth\u001b[39m\u001b[34m(self, handshake, username, password, database, charset, client_flags, max_allowed_packet, ssl_enabled, auth_plugin)\u001b[39m\n\u001b[32m     93\u001b[39m     username_bytes = username\n\u001b[32m     94\u001b[39m packet = struct.pack(\u001b[33m'\u001b[39m\u001b[33m<IIB\u001b[39m\u001b[38;5;132;01m{filler}\u001b[39;00m\u001b[38;5;132;01m{usrlen}\u001b[39;00m\u001b[33msx\u001b[39m\u001b[33m'\u001b[39m.format(\n\u001b[32m     95\u001b[39m     filler=\u001b[33m'\u001b[39m\u001b[33mx\u001b[39m\u001b[33m'\u001b[39m * \u001b[32m23\u001b[39m, usrlen=\u001b[38;5;28mlen\u001b[39m(username_bytes)),\n\u001b[32m     96\u001b[39m                      client_flags, max_allowed_packet, charset,\n\u001b[32m     97\u001b[39m                      username_bytes)\n\u001b[32m---> \u001b[39m\u001b[32m99\u001b[39m packet += \u001b[38;5;28;43mself\u001b[39;49m\u001b[43m.\u001b[49m\u001b[43m_auth_response\u001b[49m\u001b[43m(\u001b[49m\u001b[43mclient_flags\u001b[49m\u001b[43m,\u001b[49m\u001b[43m \u001b[49m\u001b[43musername\u001b[49m\u001b[43m,\u001b[49m\u001b[43m \u001b[49m\u001b[43mpassword\u001b[49m\u001b[43m,\u001b[49m\n\u001b[32m    100\u001b[39m \u001b[43m                              \u001b[49m\u001b[43mdatabase\u001b[49m\u001b[43m,\u001b[49m\n\u001b[32m    101\u001b[39m \u001b[43m                              \u001b[49m\u001b[43mauth_plugin\u001b[49m\u001b[43m,\u001b[49m\n\u001b[32m    102\u001b[39m \u001b[43m                              \u001b[49m\u001b[43mauth_data\u001b[49m\u001b[43m,\u001b[49m\u001b[43m \u001b[49m\u001b[43mssl_enabled\u001b[49m\u001b[43m)\u001b[49m\n\u001b[32m    104\u001b[39m packet += \u001b[38;5;28mself\u001b[39m._connect_with_db(client_flags, database)\n\u001b[32m    106\u001b[39m \u001b[38;5;28;01mif\u001b[39;00m client_flags & ClientFlag.PLUGIN_AUTH:\n",
      "\u001b[36mFile \u001b[39m\u001b[32mc:\\Users\\profe\\AppData\\Local\\Programs\\Python\\Python313\\Lib\\site-packages\\mysql\\connector\\protocol.py:58\u001b[39m, in \u001b[36mMySQLProtocol._auth_response\u001b[39m\u001b[34m(self, client_flags, username, password, database, auth_plugin, auth_data, ssl_enabled)\u001b[39m\n\u001b[32m     55\u001b[39m     \u001b[38;5;28;01mreturn\u001b[39;00m \u001b[33mb\u001b[39m\u001b[33m'\u001b[39m\u001b[38;5;130;01m\\x00\u001b[39;00m\u001b[33m'\u001b[39m\n\u001b[32m     57\u001b[39m \u001b[38;5;28;01mtry\u001b[39;00m:\n\u001b[32m---> \u001b[39m\u001b[32m58\u001b[39m     auth = \u001b[43mget_auth_plugin\u001b[49m\u001b[43m(\u001b[49m\u001b[43mauth_plugin\u001b[49m\u001b[43m)\u001b[49m(\n\u001b[32m     59\u001b[39m         auth_data,\n\u001b[32m     60\u001b[39m         username=username, password=password, database=database,\n\u001b[32m     61\u001b[39m         ssl_enabled=ssl_enabled)\n\u001b[32m     62\u001b[39m     plugin_auth_response = auth.auth_response()\n\u001b[32m     63\u001b[39m \u001b[38;5;28;01mexcept\u001b[39;00m (\u001b[38;5;167;01mTypeError\u001b[39;00m, errors.InterfaceError) \u001b[38;5;28;01mas\u001b[39;00m exc:\n",
      "\u001b[36mFile \u001b[39m\u001b[32mc:\\Users\\profe\\AppData\\Local\\Programs\\Python\\Python313\\Lib\\site-packages\\mysql\\connector\\authentication.py:190\u001b[39m, in \u001b[36mget_auth_plugin\u001b[39m\u001b[34m(plugin_name)\u001b[39m\n\u001b[32m    187\u001b[39m     \u001b[38;5;28;01mif\u001b[39;00m authclass.plugin_name == plugin_name:\n\u001b[32m    188\u001b[39m         \u001b[38;5;28;01mreturn\u001b[39;00m authclass\n\u001b[32m--> \u001b[39m\u001b[32m190\u001b[39m \u001b[38;5;28;01mraise\u001b[39;00m errors.NotSupportedError(\n\u001b[32m    191\u001b[39m     \u001b[33m\"\u001b[39m\u001b[33mAuthentication plugin \u001b[39m\u001b[33m'\u001b[39m\u001b[38;5;132;01m{0}\u001b[39;00m\u001b[33m'\u001b[39m\u001b[33m is not supported\u001b[39m\u001b[33m\"\u001b[39m.format(plugin_name))\n",
      "\u001b[31mNotSupportedError\u001b[39m: Authentication plugin 'caching_sha2_password' is not supported"
     ]
    }
   ],
   "source": [
    "# import mysql.connector\n",
    "\n",
    "# # Establish the connection\n",
    "# conn = mysql.connector.connect(\n",
    "#     host=\"localhost\",          # Change if using remote server\n",
    "#     user=\"your_username\",      # Your MySQL username\n",
    "#     password=\"GeoRunz\",  # Your MySQL password\n",
    "#     database=\"imdb_insights\"   # The database name\n",
    "# )\n",
    "\n",
    "# # Create a cursor object to execute queries\n",
    "# cursor = conn.cursor()\n",
    "\n",
    "# # Test query to ensure connection works\n",
    "# cursor.execute(\"SHOW TABLES;\")\n",
    "\n",
    "# # Fetch and print table names\n",
    "# for table in cursor.fetchall():\n",
    "#     print(table)\n",
    "\n",
    "# # Always close connection when done\n",
    "# cursor.close()\n",
    "# conn.close()"
   ]
  },
  {
   "cell_type": "code",
   "execution_count": null,
   "id": "8b443054",
   "metadata": {},
   "outputs": [
    {
     "ename": "NotSupportedError",
     "evalue": "Authentication plugin 'caching_sha2_password' is not supported",
     "output_type": "error",
     "traceback": [
      "\u001b[31m---------------------------------------------------------------------------\u001b[39m",
      "\u001b[31mNotSupportedError\u001b[39m                         Traceback (most recent call last)",
      "\u001b[36mCell\u001b[39m\u001b[36m \u001b[39m\u001b[32mIn[8]\u001b[39m\u001b[32m, line 4\u001b[39m\n\u001b[32m      1\u001b[39m \u001b[38;5;28;01mimport\u001b[39;00m\u001b[38;5;250m \u001b[39m\u001b[34;01mmysql\u001b[39;00m\u001b[34;01m.\u001b[39;00m\u001b[34;01mconnector\u001b[39;00m\n\u001b[32m      3\u001b[39m \u001b[38;5;66;03m# Establish the connection\u001b[39;00m\n\u001b[32m----> \u001b[39m\u001b[32m4\u001b[39m conn = \u001b[43mmysql\u001b[49m\u001b[43m.\u001b[49m\u001b[43mconnector\u001b[49m\u001b[43m.\u001b[49m\u001b[43mconnect\u001b[49m\u001b[43m(\u001b[49m\n\u001b[32m      5\u001b[39m \u001b[43m    \u001b[49m\u001b[43mhost\u001b[49m\u001b[43m=\u001b[49m\u001b[33;43m\"\u001b[39;49m\u001b[33;43mlocalhost\u001b[39;49m\u001b[33;43m\"\u001b[39;49m\u001b[43m,\u001b[49m\u001b[43m          \u001b[49m\u001b[38;5;66;43;03m# Change if using remote server\u001b[39;49;00m\n\u001b[32m      6\u001b[39m \u001b[43m    \u001b[49m\u001b[43muser\u001b[49m\u001b[43m=\u001b[49m\u001b[33;43m\"\u001b[39;49m\u001b[33;43myour_username\u001b[39;49m\u001b[33;43m\"\u001b[39;49m\u001b[43m,\u001b[49m\u001b[43m      \u001b[49m\u001b[38;5;66;43;03m# Your MySQL username\u001b[39;49;00m\n\u001b[32m      7\u001b[39m \u001b[43m    \u001b[49m\u001b[43mpassword\u001b[49m\u001b[43m=\u001b[49m\u001b[33;43m\"\u001b[39;49m\u001b[33;43mGeoRunz\u001b[39;49m\u001b[33;43m\"\u001b[39;49m\u001b[43m,\u001b[49m\u001b[43m  \u001b[49m\u001b[38;5;66;43;03m# Your MySQL password\u001b[39;49;00m\n\u001b[32m      8\u001b[39m \u001b[43m    \u001b[49m\u001b[43mdatabase\u001b[49m\u001b[43m=\u001b[49m\u001b[33;43m\"\u001b[39;49m\u001b[33;43mimdb_insights\u001b[39;49m\u001b[33;43m\"\u001b[39;49m\u001b[43m   \u001b[49m\u001b[38;5;66;43;03m# The database name\u001b[39;49;00m\n\u001b[32m      9\u001b[39m \u001b[43m)\u001b[49m\n\u001b[32m     11\u001b[39m \u001b[38;5;66;03m# Create a cursor object to execute queries\u001b[39;00m\n\u001b[32m     12\u001b[39m cursor = conn.cursor()\n",
      "\u001b[36mFile \u001b[39m\u001b[32mc:\\Users\\profe\\AppData\\Local\\Programs\\Python\\Python313\\Lib\\site-packages\\mysql\\connector\\__init__.py:179\u001b[39m, in \u001b[36mconnect\u001b[39m\u001b[34m(*args, **kwargs)\u001b[39m\n\u001b[32m    177\u001b[39m     \u001b[38;5;28;01mreturn\u001b[39;00m CMySQLConnection(*args, **kwargs)\n\u001b[32m    178\u001b[39m \u001b[38;5;28;01melse\u001b[39;00m:\n\u001b[32m--> \u001b[39m\u001b[32m179\u001b[39m     \u001b[38;5;28;01mreturn\u001b[39;00m \u001b[43mMySQLConnection\u001b[49m\u001b[43m(\u001b[49m\u001b[43m*\u001b[49m\u001b[43margs\u001b[49m\u001b[43m,\u001b[49m\u001b[43m \u001b[49m\u001b[43m*\u001b[49m\u001b[43m*\u001b[49m\u001b[43mkwargs\u001b[49m\u001b[43m)\u001b[49m\n",
      "\u001b[36mFile \u001b[39m\u001b[32mc:\\Users\\profe\\AppData\\Local\\Programs\\Python\\Python313\\Lib\\site-packages\\mysql\\connector\\connection.py:95\u001b[39m, in \u001b[36mMySQLConnection.__init__\u001b[39m\u001b[34m(self, *args, **kwargs)\u001b[39m\n\u001b[32m     92\u001b[39m \u001b[38;5;28mself\u001b[39m._pool_config_version = \u001b[38;5;28;01mNone\u001b[39;00m\n\u001b[32m     94\u001b[39m \u001b[38;5;28;01mif\u001b[39;00m \u001b[38;5;28mlen\u001b[39m(kwargs) > \u001b[32m0\u001b[39m:\n\u001b[32m---> \u001b[39m\u001b[32m95\u001b[39m     \u001b[38;5;28;43mself\u001b[39;49m\u001b[43m.\u001b[49m\u001b[43mconnect\u001b[49m\u001b[43m(\u001b[49m\u001b[43m*\u001b[49m\u001b[43m*\u001b[49m\u001b[43mkwargs\u001b[49m\u001b[43m)\u001b[49m\n",
      "\u001b[36mFile \u001b[39m\u001b[32mc:\\Users\\profe\\AppData\\Local\\Programs\\Python\\Python313\\Lib\\site-packages\\mysql\\connector\\abstracts.py:716\u001b[39m, in \u001b[36mMySQLConnectionAbstract.connect\u001b[39m\u001b[34m(self, **kwargs)\u001b[39m\n\u001b[32m    713\u001b[39m     \u001b[38;5;28mself\u001b[39m.config(**kwargs)\n\u001b[32m    715\u001b[39m \u001b[38;5;28mself\u001b[39m.disconnect()\n\u001b[32m--> \u001b[39m\u001b[32m716\u001b[39m \u001b[38;5;28;43mself\u001b[39;49m\u001b[43m.\u001b[49m\u001b[43m_open_connection\u001b[49m\u001b[43m(\u001b[49m\u001b[43m)\u001b[49m\n\u001b[32m    717\u001b[39m \u001b[38;5;28mself\u001b[39m._post_connection()\n",
      "\u001b[36mFile \u001b[39m\u001b[32mc:\\Users\\profe\\AppData\\Local\\Programs\\Python\\Python313\\Lib\\site-packages\\mysql\\connector\\connection.py:208\u001b[39m, in \u001b[36mMySQLConnection._open_connection\u001b[39m\u001b[34m(self)\u001b[39m\n\u001b[32m    206\u001b[39m \u001b[38;5;28mself\u001b[39m._socket.open_connection()\n\u001b[32m    207\u001b[39m \u001b[38;5;28mself\u001b[39m._do_handshake()\n\u001b[32m--> \u001b[39m\u001b[32m208\u001b[39m \u001b[38;5;28;43mself\u001b[39;49m\u001b[43m.\u001b[49m\u001b[43m_do_auth\u001b[49m\u001b[43m(\u001b[49m\u001b[38;5;28;43mself\u001b[39;49m\u001b[43m.\u001b[49m\u001b[43m_user\u001b[49m\u001b[43m,\u001b[49m\u001b[43m \u001b[49m\u001b[38;5;28;43mself\u001b[39;49m\u001b[43m.\u001b[49m\u001b[43m_password\u001b[49m\u001b[43m,\u001b[49m\n\u001b[32m    209\u001b[39m \u001b[43m              \u001b[49m\u001b[38;5;28;43mself\u001b[39;49m\u001b[43m.\u001b[49m\u001b[43m_database\u001b[49m\u001b[43m,\u001b[49m\u001b[43m \u001b[49m\u001b[38;5;28;43mself\u001b[39;49m\u001b[43m.\u001b[49m\u001b[43m_client_flags\u001b[49m\u001b[43m,\u001b[49m\u001b[43m \u001b[49m\u001b[38;5;28;43mself\u001b[39;49m\u001b[43m.\u001b[49m\u001b[43m_charset_id\u001b[49m\u001b[43m,\u001b[49m\n\u001b[32m    210\u001b[39m \u001b[43m              \u001b[49m\u001b[38;5;28;43mself\u001b[39;49m\u001b[43m.\u001b[49m\u001b[43m_ssl\u001b[49m\u001b[43m)\u001b[49m\n\u001b[32m    211\u001b[39m \u001b[38;5;28mself\u001b[39m.set_converter_class(\u001b[38;5;28mself\u001b[39m._converter_class)\n\u001b[32m    212\u001b[39m \u001b[38;5;28;01mif\u001b[39;00m \u001b[38;5;28mself\u001b[39m._client_flags & ClientFlag.COMPRESS:\n",
      "\u001b[36mFile \u001b[39m\u001b[32mc:\\Users\\profe\\AppData\\Local\\Programs\\Python\\Python313\\Lib\\site-packages\\mysql\\connector\\connection.py:137\u001b[39m, in \u001b[36mMySQLConnection._do_auth\u001b[39m\u001b[34m(self, username, password, database, client_flags, charset, ssl_options)\u001b[39m\n\u001b[32m    134\u001b[39m     \u001b[38;5;28mself\u001b[39m._socket.switch_to_ssl(**ssl_options)\n\u001b[32m    135\u001b[39m     \u001b[38;5;28mself\u001b[39m._ssl_active = \u001b[38;5;28;01mTrue\u001b[39;00m\n\u001b[32m--> \u001b[39m\u001b[32m137\u001b[39m packet = \u001b[38;5;28;43mself\u001b[39;49m\u001b[43m.\u001b[49m\u001b[43m_protocol\u001b[49m\u001b[43m.\u001b[49m\u001b[43mmake_auth\u001b[49m\u001b[43m(\u001b[49m\n\u001b[32m    138\u001b[39m \u001b[43m    \u001b[49m\u001b[43mhandshake\u001b[49m\u001b[43m=\u001b[49m\u001b[38;5;28;43mself\u001b[39;49m\u001b[43m.\u001b[49m\u001b[43m_handshake\u001b[49m\u001b[43m,\u001b[49m\n\u001b[32m    139\u001b[39m \u001b[43m    \u001b[49m\u001b[43musername\u001b[49m\u001b[43m=\u001b[49m\u001b[43musername\u001b[49m\u001b[43m,\u001b[49m\u001b[43m \u001b[49m\u001b[43mpassword\u001b[49m\u001b[43m=\u001b[49m\u001b[43mpassword\u001b[49m\u001b[43m,\u001b[49m\u001b[43m \u001b[49m\u001b[43mdatabase\u001b[49m\u001b[43m=\u001b[49m\u001b[43mdatabase\u001b[49m\u001b[43m,\u001b[49m\n\u001b[32m    140\u001b[39m \u001b[43m    \u001b[49m\u001b[43mcharset\u001b[49m\u001b[43m=\u001b[49m\u001b[43mcharset\u001b[49m\u001b[43m,\u001b[49m\u001b[43m \u001b[49m\u001b[43mclient_flags\u001b[49m\u001b[43m=\u001b[49m\u001b[43mclient_flags\u001b[49m\u001b[43m,\u001b[49m\n\u001b[32m    141\u001b[39m \u001b[43m    \u001b[49m\u001b[43mssl_enabled\u001b[49m\u001b[43m=\u001b[49m\u001b[38;5;28;43mself\u001b[39;49m\u001b[43m.\u001b[49m\u001b[43m_ssl_active\u001b[49m\u001b[43m,\u001b[49m\n\u001b[32m    142\u001b[39m \u001b[43m    \u001b[49m\u001b[43mauth_plugin\u001b[49m\u001b[43m=\u001b[49m\u001b[38;5;28;43mself\u001b[39;49m\u001b[43m.\u001b[49m\u001b[43m_auth_plugin\u001b[49m\u001b[43m)\u001b[49m\n\u001b[32m    143\u001b[39m \u001b[38;5;28mself\u001b[39m._socket.send(packet)\n\u001b[32m    144\u001b[39m \u001b[38;5;28mself\u001b[39m._auth_switch_request(username, password)\n",
      "\u001b[36mFile \u001b[39m\u001b[32mc:\\Users\\profe\\AppData\\Local\\Programs\\Python\\Python313\\Lib\\site-packages\\mysql\\connector\\protocol.py:99\u001b[39m, in \u001b[36mMySQLProtocol.make_auth\u001b[39m\u001b[34m(self, handshake, username, password, database, charset, client_flags, max_allowed_packet, ssl_enabled, auth_plugin)\u001b[39m\n\u001b[32m     93\u001b[39m     username_bytes = username\n\u001b[32m     94\u001b[39m packet = struct.pack(\u001b[33m'\u001b[39m\u001b[33m<IIB\u001b[39m\u001b[38;5;132;01m{filler}\u001b[39;00m\u001b[38;5;132;01m{usrlen}\u001b[39;00m\u001b[33msx\u001b[39m\u001b[33m'\u001b[39m.format(\n\u001b[32m     95\u001b[39m     filler=\u001b[33m'\u001b[39m\u001b[33mx\u001b[39m\u001b[33m'\u001b[39m * \u001b[32m23\u001b[39m, usrlen=\u001b[38;5;28mlen\u001b[39m(username_bytes)),\n\u001b[32m     96\u001b[39m                      client_flags, max_allowed_packet, charset,\n\u001b[32m     97\u001b[39m                      username_bytes)\n\u001b[32m---> \u001b[39m\u001b[32m99\u001b[39m packet += \u001b[38;5;28;43mself\u001b[39;49m\u001b[43m.\u001b[49m\u001b[43m_auth_response\u001b[49m\u001b[43m(\u001b[49m\u001b[43mclient_flags\u001b[49m\u001b[43m,\u001b[49m\u001b[43m \u001b[49m\u001b[43musername\u001b[49m\u001b[43m,\u001b[49m\u001b[43m \u001b[49m\u001b[43mpassword\u001b[49m\u001b[43m,\u001b[49m\n\u001b[32m    100\u001b[39m \u001b[43m                              \u001b[49m\u001b[43mdatabase\u001b[49m\u001b[43m,\u001b[49m\n\u001b[32m    101\u001b[39m \u001b[43m                              \u001b[49m\u001b[43mauth_plugin\u001b[49m\u001b[43m,\u001b[49m\n\u001b[32m    102\u001b[39m \u001b[43m                              \u001b[49m\u001b[43mauth_data\u001b[49m\u001b[43m,\u001b[49m\u001b[43m \u001b[49m\u001b[43mssl_enabled\u001b[49m\u001b[43m)\u001b[49m\n\u001b[32m    104\u001b[39m packet += \u001b[38;5;28mself\u001b[39m._connect_with_db(client_flags, database)\n\u001b[32m    106\u001b[39m \u001b[38;5;28;01mif\u001b[39;00m client_flags & ClientFlag.PLUGIN_AUTH:\n",
      "\u001b[36mFile \u001b[39m\u001b[32mc:\\Users\\profe\\AppData\\Local\\Programs\\Python\\Python313\\Lib\\site-packages\\mysql\\connector\\protocol.py:58\u001b[39m, in \u001b[36mMySQLProtocol._auth_response\u001b[39m\u001b[34m(self, client_flags, username, password, database, auth_plugin, auth_data, ssl_enabled)\u001b[39m\n\u001b[32m     55\u001b[39m     \u001b[38;5;28;01mreturn\u001b[39;00m \u001b[33mb\u001b[39m\u001b[33m'\u001b[39m\u001b[38;5;130;01m\\x00\u001b[39;00m\u001b[33m'\u001b[39m\n\u001b[32m     57\u001b[39m \u001b[38;5;28;01mtry\u001b[39;00m:\n\u001b[32m---> \u001b[39m\u001b[32m58\u001b[39m     auth = \u001b[43mget_auth_plugin\u001b[49m\u001b[43m(\u001b[49m\u001b[43mauth_plugin\u001b[49m\u001b[43m)\u001b[49m(\n\u001b[32m     59\u001b[39m         auth_data,\n\u001b[32m     60\u001b[39m         username=username, password=password, database=database,\n\u001b[32m     61\u001b[39m         ssl_enabled=ssl_enabled)\n\u001b[32m     62\u001b[39m     plugin_auth_response = auth.auth_response()\n\u001b[32m     63\u001b[39m \u001b[38;5;28;01mexcept\u001b[39;00m (\u001b[38;5;167;01mTypeError\u001b[39;00m, errors.InterfaceError) \u001b[38;5;28;01mas\u001b[39;00m exc:\n",
      "\u001b[36mFile \u001b[39m\u001b[32mc:\\Users\\profe\\AppData\\Local\\Programs\\Python\\Python313\\Lib\\site-packages\\mysql\\connector\\authentication.py:190\u001b[39m, in \u001b[36mget_auth_plugin\u001b[39m\u001b[34m(plugin_name)\u001b[39m\n\u001b[32m    187\u001b[39m     \u001b[38;5;28;01mif\u001b[39;00m authclass.plugin_name == plugin_name:\n\u001b[32m    188\u001b[39m         \u001b[38;5;28;01mreturn\u001b[39;00m authclass\n\u001b[32m--> \u001b[39m\u001b[32m190\u001b[39m \u001b[38;5;28;01mraise\u001b[39;00m errors.NotSupportedError(\n\u001b[32m    191\u001b[39m     \u001b[33m\"\u001b[39m\u001b[33mAuthentication plugin \u001b[39m\u001b[33m'\u001b[39m\u001b[38;5;132;01m{0}\u001b[39;00m\u001b[33m'\u001b[39m\u001b[33m is not supported\u001b[39m\u001b[33m\"\u001b[39m.format(plugin_name))\n",
      "\u001b[31mNotSupportedError\u001b[39m: Authentication plugin 'caching_sha2_password' is not supported"
     ]
    }
   ],
   "source": [
    "tables = cursor.fetchall()\n",
    "print('IMDb Database contains the following tables:')\n",
    "print('--------------------------------------------')\n",
    "for table in tables:\n",
    "    print(table[0])"
   ]
  },
  {
   "cell_type": "markdown",
   "id": "03084a9c",
   "metadata": {},
   "source": [
    "Q1 - Visualizing the Brilliant \"The X-Files\""
   ]
  },
  {
   "cell_type": "markdown",
   "id": "6c3ed9e3",
   "metadata": {},
   "source": [
    "What is the average rating of each episode of The X-Files?\n"
   ]
  },
  {
   "cell_type": "code",
   "execution_count": null,
   "id": "069e31fd",
   "metadata": {},
   "outputs": [],
   "source": [
    "Query1 = \"\"\"SELECT E.season_number, E.episode_number, T2.primary_title, R.average_rating\n",
    "FROM Titles AS T1, Titles AS T2, Episode_belongs_to AS E, Title_ratings AS R\n",
    "WHERE T1.primary_title = 'The X-Files'\n",
    "AND T1.title_type = 'tvSeries'\n",
    "AND T1.title_id = E.parent_tv_show_title_id\n",
    "AND T2.title_type = 'tvEpisode'\n",
    "AND T2.title_id = E.episode_title_id\n",
    "AND T2.title_id = R.title_id\n",
    "ORDER BY E.season_number, E.episode_number;\"\"\"\n",
    "cursor.execute(Query1)\n",
    "data = cursor.fetchall()\n",
    "df = pd.DataFrame(data,columns=['season_no','episode_no','ep_title','avg_rating'])\n",
    "df.head()"
   ]
  },
  {
   "cell_type": "markdown",
   "id": "c9899bd5",
   "metadata": {},
   "source": [
    "How many episodes were there in The X-Files per season? \n",
    "And what was the average of the average episode ratings for each season?"
   ]
  },
  {
   "cell_type": "code",
   "execution_count": null,
   "id": "08347b76",
   "metadata": {},
   "outputs": [],
   "source": [
    "Query2 = \"\"\"SELECT Q22.season_number, COUNT(*) AS Number_of_episodes, AVG(Q22.average_rating) AS Average_of_ep_average_ratings\n",
    "FROM Q22\n",
    "GROUP BY Q22.season_number\n",
    "ORDER BY Q22.season_number;\"\"\"\n",
    "cursor.execute(Query2)\n",
    "data = cursor.fetchall()\n",
    "df2 = pd.DataFrame(data,columns=['season_no','no_of_eps','avg_of_avg_ratings'])\n",
    "df2.head()"
   ]
  },
  {
   "cell_type": "code",
   "execution_count": null,
   "id": "da99cf75",
   "metadata": {},
   "outputs": [],
   "source": []
  },
  {
   "cell_type": "code",
   "execution_count": null,
   "id": "d69f4dcc",
   "metadata": {},
   "outputs": [],
   "source": []
  },
  {
   "cell_type": "code",
   "execution_count": null,
   "id": "03224369",
   "metadata": {},
   "outputs": [],
   "source": [
    "# Imports"
   ]
  },
  {
   "cell_type": "markdown",
   "id": "b2c4ffa1",
   "metadata": {},
   "source": []
  }
 ],
 "metadata": {
  "kernelspec": {
   "display_name": "Python 3",
   "language": "python",
   "name": "python3"
  },
  "language_info": {
   "codemirror_mode": {
    "name": "ipython",
    "version": 3
   },
   "file_extension": ".py",
   "mimetype": "text/x-python",
   "name": "python",
   "nbconvert_exporter": "python",
   "pygments_lexer": "ipython3",
   "version": "3.13.3"
  }
 },
 "nbformat": 4,
 "nbformat_minor": 5
}
